{
 "cells": [
  {
   "cell_type": "markdown",
   "metadata": {},
   "source": [
    "# Discover, Customize and Access NSIDC DAAC Data\n",
    "\n",
    "This notebook is based off of the NSIDC-Data-Access-Notebook provided here: \n",
    "https://github.com/nsidc/NSIDC-Data-Access-Notebook\n",
    "\n",
    "Now that we've visualized our study areas, we will explore data coverage, size, and customization (subsetting, reformatting, reprojection) service availability using ATL07 as an example. We will then access a file using NSIDC DAAC's Data Access and Service API. The \"Data access for all datasets\" notebook provides the steps needed to subset and download all the data we'll be using in the final \"Visualize and Analyze Data notebook\".\n",
    "\n",
    "***A note on data access options:***\n",
    "We will be pursuing data discovery and access \"programmatically\" using Application Programming Interfaces, or APIs.\n",
    "\n",
    "What is an API? API stands for Application Programming Interface. You can think of it as a middle man between an application or end-use (in this case, us) and a data provider. In this case, the data provider is both the metadata repository housing ICESat-2 data information (the Common Metadata Repository and NSIDC). These APIs are essentially structured as a URL with a base plus individual key-value-pairs (KVPs) separated by ‘&’.\n",
    "\n",
    "There are other discovery and access methods available from NSIDC, as you can see from the data set home pages under the 'Download Data' tab, including OpenAltimetry and NASA Earthdata Search.\n",
    "\n"
   ]
  },
  {
   "cell_type": "markdown",
   "metadata": {},
   "source": [
    "## Import packages\n"
   ]
  },
  {
   "cell_type": "code",
   "execution_count": 1,
   "metadata": {},
   "outputs": [],
   "source": [
    "%run functions.py"
   ]
  },
  {
   "cell_type": "code",
   "execution_count": 2,
   "metadata": {},
   "outputs": [],
   "source": [
    "#import requests\n",
    "import getpass\n",
    "import socket\n",
    "#import json\n",
    "import zipfile\n",
    "import io\n",
    "import math\n",
    "import os\n",
    "import shutil\n",
    "import pprint\n",
    "import re\n",
    "import time\n",
    "import functions\n",
    "#from statistics import mean\n",
    "from requests.auth import HTTPBasicAuth"
   ]
  },
  {
   "cell_type": "markdown",
   "metadata": {},
   "source": [
    "## Explore data availability using the Common Metadata Repository \n",
    "\n",
    "The Common Metadata Repository (CMR) is a high-performance, high-quality, continuously evolving metadata system that catalogs Earth Science data and associated service metadata records. These metadata records are registered, modified, discovered, and accessed through programmatic interfaces leveraging standard protocols and APIs.\n",
    "\n",
    "https://cmr.earthdata.nasa.gov/search/site/docs/search/api.html"
   ]
  },
  {
   "cell_type": "markdown",
   "metadata": {},
   "source": [
    "### Select data set and determine version number\n",
    "\n",
    "Data sets are selected by data set IDs (e.g. ATL07).  In the CMR API documentation, a data set ids is referred to as a \"short name\". We use the python requests package to access the CMR. This search does not require a password.  "
   ]
  },
  {
   "cell_type": "code",
   "execution_count": 3,
   "metadata": {},
   "outputs": [],
   "source": [
    "CMR_COLLECTIONS_URL = 'https://cmr.earthdata.nasa.gov/search/collections.json'\n",
    "response = requests.get(CMR_COLLECTIONS_URL, params={'short_name': 'ATL07'})"
   ]
  },
  {
   "cell_type": "markdown",
   "metadata": {},
   "source": [
    "Data are then converted to [JSON](https://en.wikipedia.org/wiki/JSON) format; a language independant human-readable open-standard file format."
   ]
  },
  {
   "cell_type": "code",
   "execution_count": 4,
   "metadata": {
    "collapsed": true,
    "jupyter": {
     "outputs_hidden": true
    }
   },
   "outputs": [
    {
     "data": {
      "text/plain": [
       "{'feed': {'updated': '2019-11-20T20:19:41.808Z',\n",
       "  'id': 'https://cmr.earthdata.nasa.gov:443/search/collections.json?short_name=ATL07',\n",
       "  'title': 'ECHO dataset metadata',\n",
       "  'entry': [{'processing_level_id': 'Level 3',\n",
       "    'boxes': ['-90 -180 90 180'],\n",
       "    'time_start': '2018-10-14T00:00:00.000Z',\n",
       "    'version_id': '001',\n",
       "    'dataset_id': 'ATLAS/ICESat-2 L3A Sea Ice Height V001',\n",
       "    'has_spatial_subsetting': True,\n",
       "    'has_transforms': False,\n",
       "    'associations': {'services': ['S1568899363-NSIDC_ECS',\n",
       "      'S1613689509-NSIDC_ECS',\n",
       "      'S1613669681-NSIDC_ECS']},\n",
       "    'has_variables': True,\n",
       "    'data_center': 'NSIDC_ECS',\n",
       "    'short_name': 'ATL07',\n",
       "    'organizations': ['NASA NSIDC DAAC', 'NASA/GSFC/EOS/ESDIS'],\n",
       "    'title': 'ATLAS/ICESat-2 L3A Sea Ice Height V001',\n",
       "    'coordinate_system': 'CARTESIAN',\n",
       "    'summary': 'The data set (ATL07) contains along-track heights for sea ice and open water leads (at varying length scales) relative to the WGS84 ellipsoid (ITRF2014 reference frame) after adjustment for geoidal and tidal variations, and inverted barometer effects. Height statistics and apparent reflectance are also provided. The data were acquired by the Advanced Topographic Laser Altimeter System (ATLAS) instrument on board the Ice, Cloud and land Elevation Satellite-2 (ICESat-2) observatory.',\n",
       "    'orbit_parameters': {'swath_width': '36.0',\n",
       "     'period': '94.29',\n",
       "     'inclination_angle': '92.0',\n",
       "     'number_of_orbits': '1.0',\n",
       "     'start_circular_latitude': '0.0'},\n",
       "    'id': 'C1511851402-NSIDC_ECS',\n",
       "    'has_formats': True,\n",
       "    'original_format': 'ISO19115',\n",
       "    'archive_center': 'NASA NSIDC DAAC',\n",
       "    'has_temporal_subsetting': True,\n",
       "    'browse_flag': False,\n",
       "    'online_access_flag': True,\n",
       "    'links': [{'length': '0.0KB',\n",
       "      'rel': 'http://esipfed.org/ns/fedsearch/1.1/data#',\n",
       "      'hreflang': 'en-US',\n",
       "      'href': 'https://n5eil01u.ecs.nsidc.org/ATLAS/ATL07.001/'},\n",
       "     {'length': '0.0KB',\n",
       "      'rel': 'http://esipfed.org/ns/fedsearch/1.1/data#',\n",
       "      'hreflang': 'en-US',\n",
       "      'href': 'https://search.earthdata.nasa.gov/search/granules?p=C1511851402-NSIDC_ECS&m=-87.87967837686685!9.890967019347585!1!1!0!0%2C2&tl=1542476530!4!!&q=atl07&ok=atl07'},\n",
       "     {'rel': 'http://esipfed.org/ns/fedsearch/1.1/metadata#',\n",
       "      'hreflang': 'en-US',\n",
       "      'href': 'https://doi.org/10.5067/ATLAS/ATL07.001'},\n",
       "     {'rel': 'http://esipfed.org/ns/fedsearch/1.1/documentation#',\n",
       "      'hreflang': 'en-US',\n",
       "      'href': 'https://doi.org/10.5067/ATLAS/ATL07.001'}]},\n",
       "   {'processing_level_id': 'Level 3',\n",
       "    'boxes': ['-90 -180 90 180'],\n",
       "    'time_start': '2018-10-14T00:00:00.000Z',\n",
       "    'version_id': '002',\n",
       "    'dataset_id': 'ATLAS/ICESat-2 L3A Sea Ice Height V002',\n",
       "    'has_spatial_subsetting': True,\n",
       "    'has_transforms': False,\n",
       "    'associations': {'services': ['S1568899363-NSIDC_ECS',\n",
       "      'S1613669681-NSIDC_ECS',\n",
       "      'S1613689509-NSIDC_ECS']},\n",
       "    'has_variables': True,\n",
       "    'data_center': 'NSIDC_ECS',\n",
       "    'short_name': 'ATL07',\n",
       "    'organizations': ['NASA NSIDC DAAC', 'NASA/GSFC/EOS/ESDIS'],\n",
       "    'title': 'ATLAS/ICESat-2 L3A Sea Ice Height V002',\n",
       "    'coordinate_system': 'CARTESIAN',\n",
       "    'summary': 'The data set (ATL07) contains along-track heights for sea ice and open water leads (at varying length scales) relative to the WGS84 ellipsoid (ITRF2014 reference frame) after adjustment for geoidal and tidal variations, and inverted barometer effects. Height statistics and apparent reflectance are also provided. The data were acquired by the Advanced Topographic Laser Altimeter System (ATLAS) instrument on board the Ice, Cloud and land Elevation Satellite-2 (ICESat-2) observatory.',\n",
       "    'orbit_parameters': {'swath_width': '36.0',\n",
       "     'period': '94.29',\n",
       "     'inclination_angle': '92.0',\n",
       "     'number_of_orbits': '1.0',\n",
       "     'start_circular_latitude': '0.0'},\n",
       "    'id': 'C1631076780-NSIDC_ECS',\n",
       "    'has_formats': True,\n",
       "    'original_format': 'ISO19115',\n",
       "    'archive_center': 'NASA NSIDC DAAC',\n",
       "    'has_temporal_subsetting': True,\n",
       "    'browse_flag': False,\n",
       "    'online_access_flag': True,\n",
       "    'links': [{'length': '0.0KB',\n",
       "      'rel': 'http://esipfed.org/ns/fedsearch/1.1/data#',\n",
       "      'hreflang': 'en-US',\n",
       "      'href': 'https://n5eil01u.ecs.nsidc.org/ATLAS/ATL07.002/'},\n",
       "     {'length': '0.0KB',\n",
       "      'rel': 'http://esipfed.org/ns/fedsearch/1.1/data#',\n",
       "      'hreflang': 'en-US',\n",
       "      'href': 'https://search.earthdata.nasa.gov/search/granules?p=C1631076780-NSIDC_ECS&q=atl07&m=-123.98668784652656!-45.656982421875!0!1!0!0%2C2&tl=1555860221!4!!'},\n",
       "     {'rel': 'http://esipfed.org/ns/fedsearch/1.1/metadata#',\n",
       "      'hreflang': 'en-US',\n",
       "      'href': 'https://doi.org/10.5067/ATLAS/ATL07.002'},\n",
       "     {'rel': 'http://esipfed.org/ns/fedsearch/1.1/documentation#',\n",
       "      'hreflang': 'en-US',\n",
       "      'href': 'https://doi.org/10.5067/ATLAS/ATL07.002'}]}]}}"
      ]
     },
     "execution_count": 4,
     "metadata": {},
     "output_type": "execute_result"
    }
   ],
   "source": [
    "results = json.loads(response.content)\n",
    "results"
   ]
  },
  {
   "cell_type": "markdown",
   "metadata": {},
   "source": [
    "More than one version can exist for a given data set:"
   ]
  },
  {
   "cell_type": "code",
   "execution_count": 5,
   "metadata": {},
   "outputs": [
    {
     "name": "stdout",
     "output_type": "stream",
     "text": [
      "dataset_id: ATLAS/ICESat-2 L3A Sea Ice Height V001, version_id: 001\n",
      "dataset_id: ATLAS/ICESat-2 L3A Sea Ice Height V002, version_id: 002\n"
     ]
    }
   ],
   "source": [
    "for entry in results['feed']['entry']:\n",
    "    functions.print_cmr_metadata(entry)"
   ]
  },
  {
   "cell_type": "markdown",
   "metadata": {},
   "source": [
    "We will specify the most recent version, `002`, for our remaining ATL07 queries."
   ]
  },
  {
   "cell_type": "markdown",
   "metadata": {},
   "source": [
    "### Select time and area of interest"
   ]
  },
  {
   "cell_type": "markdown",
   "metadata": {},
   "source": [
    "We will create a simple dictionary with our short name, version, time, and area of interest. We'll continue to add to this dictionary as we discover more information about our data set."
   ]
  },
  {
   "cell_type": "code",
   "execution_count": 6,
   "metadata": {},
   "outputs": [],
   "source": [
    "# Bounding Box spatial parameter in 'W,S,E,N' format\n",
    "\n",
    "bounding_box = '140,72,153,80'"
   ]
  },
  {
   "cell_type": "code",
   "execution_count": 7,
   "metadata": {},
   "outputs": [],
   "source": [
    "# Each date in yyyy-MM-ddTHH:mm:ssZ format\n",
    "# Date range in start,end format\n",
    "\n",
    "temporal = '2019-03-23T00:00:00Z,2019-03-23T23:59:59Z'"
   ]
  },
  {
   "cell_type": "code",
   "execution_count": 8,
   "metadata": {},
   "outputs": [],
   "source": [
    "data_dict = {'short_name': 'ATL07', \n",
    "             'version': '002',\n",
    "             'bounding_box': bounding_box, \n",
    "             'temporal': temporal }"
   ]
  },
  {
   "cell_type": "markdown",
   "metadata": {},
   "source": [
    "### Determine how many files exist over this time and area of interest, as well as the average size and total volume of those granules\n",
    "\n",
    "We will use the `granule_info` function to query the CMR granule API. The function prints the number of granules, average size, and total volume of those granules. It returns the granule number value, which we will add to our data dictionary."
   ]
  },
  {
   "cell_type": "code",
   "execution_count": 9,
   "metadata": {},
   "outputs": [
    {
     "name": "stdout",
     "output_type": "stream",
     "text": [
      "There are 3 granules of ATL07 version 002 over my area and time of interest.\n",
      "The average size of each granule is 260.65 MB and the total size of all 3 granules is 781.94 MB\n"
     ]
    }
   ],
   "source": [
    "gran_num = functions.granule_info(data_dict)\n",
    "data_dict['gran_num'] = gran_num"
   ]
  },
  {
   "cell_type": "markdown",
   "metadata": {},
   "source": [
    "Note that subsetting, reformatting, or reprojecting can alter the size of the granules if those services are applied to your request."
   ]
  },
  {
   "cell_type": "markdown",
   "metadata": {},
   "source": [
    "### Input Earthdata Login credentials\n",
    "\n",
    "An Earthdata Login account is required to query data services and to access data from the NSIDC DAAC. If you do not already have an Earthdata Login account, visit http://urs.earthdata.nasa.gov to register."
   ]
  },
  {
   "cell_type": "code",
   "execution_count": 11,
   "metadata": {},
   "outputs": [
    {
     "name": "stdin",
     "output_type": "stream",
     "text": [
      "Earthdata Login password:  ·········\n"
     ]
    }
   ],
   "source": [
    "#Store Earthdata Login user name\n",
    "uid = 'amy.steiker'\n",
    "\n",
    "#Input and store Earthdata Login password\n",
    "pswd = getpass.getpass('Earthdata Login password: ')\n",
    "\n",
    "#Store email associated with Earthata Login account\n",
    "email = 'amy.steiker@nsidc.org'"
   ]
  },
  {
   "cell_type": "markdown",
   "metadata": {},
   "source": [
    "### Select the subsetting, reformatting, and reprojection services enabled for your data set of interest."
   ]
  },
  {
   "cell_type": "markdown",
   "metadata": {},
   "source": [
    "The NSIDC DAAC supports customization services on many of our NASA Earthdata mission collections. Let's discover whether or not our data set has these services available. If services are available, we will also determine the specific service options supported for this data set and select which of these services we want to request. "
   ]
  },
  {
   "cell_type": "code",
   "execution_count": null,
   "metadata": {},
   "outputs": [],
   "source": [
    "from xml.etree import ElementTree as ET\n",
    "\n",
    "for k, v in data_dict.items():\n",
    "    sn = v['short_name']\n",
    "    ve = (v['version'])\n",
    "    capability_url = f'https://n5eil02u.ecs.nsidc.org/egi/capabilities/{sn}.{ve}.xml'\n",
    "    \n",
    "    # Create session to store cookie and pass credentials to capabilities url\n",
    "    session = requests.session()\n",
    "    s = session.get(capability_url)\n",
    "    response = session.get(s.url,auth=(uid,pswd))\n",
    "    root = ET.fromstring(response.content)\n",
    "\n",
    "    #collect lists with each service option\n",
    "    subagent = [subset_agent.attrib for subset_agent in root.iter('SubsetAgent')]\n",
    "\n",
    "    # variable subsetting\n",
    "    variables = [SubsetVariable.attrib for SubsetVariable in root.iter('SubsetVariable')]  \n",
    "    variables_raw = [variables[i]['value'] for i in range(len(variables))]\n",
    "    variables_join = [''.join(('/',v)) if v.startswith('/') == False else v for v in variables_raw] \n",
    "    variable_vals = [v.replace(':', '/') for v in variables_join]\n",
    "\n",
    "    # reformatting\n",
    "    formats = [Format.attrib for Format in root.iter('Format')]\n",
    "    format_vals = [formats[i]['value'] for i in range(len(formats))]\n",
    "    if format_vals : format_vals.remove('')\n",
    "\n",
    "    # reprojection options\n",
    "    projections = [Projection.attrib for Projection in root.iter('Projection')]\n",
    "    proj_vals = []\n",
    "    for i in range(len(projections)):\n",
    "        if (projections[i]['value']) != 'NO_CHANGE' :\n",
    "            proj_vals.append(projections[i]['value'])\n",
    "\n",
    "    #print service information depending on service availability and select service options\n",
    "    print(sn, 'service selection:')\n",
    "    if len(subagent) < 1 :\n",
    "            print('No services exist for', sn)\n",
    "            meta = input('Would like to receive XML metadata files along with the science files? (y/n)')\n",
    "            if meta == 'n': data_dict[k]['INCLUDE_META'] = 'N'\n",
    "            print('')\n",
    "    else:\n",
    "        subdict = subagent[0]\n",
    "        if subdict['spatialSubsetting'] == 'true':\n",
    "            ss = input('Subsetting by bounding box, based on the area of interest inputted above, is available. Would you like to request this service? (y/n)')\n",
    "            if ss == 'y': data_dict[k]['bbox'] = bounding_box\n",
    "        if subdict['temporalSubsetting'] == 'true':\n",
    "            ts = input('Subsetting by time, based on the temporal range inputted above, is available. Would you like to request this service? (y/n)')\n",
    "            if ts == 'y': data_dict[k]['time'] = start_date + 'T' + start_time + ',' + end_date + 'T' + end_time \n",
    "        if len(format_vals) > 0 :\n",
    "            print('These reformatting options are available:', format_vals)\n",
    "            reformat = input('If you would like to reformat, copy and paste the reformatting option you would like (make sure to omit quotes, e.g. GeoTIFF), otherwise leave blank.')\n",
    "        if len(proj_vals) > 0 : \n",
    "            print('These reprojection options are available with your requested format:', proj_vals)\n",
    "            data_dict[k]['projection'] = input('If you would like to reproject, copy and paste the reprojection option you would like (make sure to omit quotes, e.g. GEOGRAPHIC), otherwise leave blank.')\n",
    "            # Enter required parameters for UTM North and South\n",
    "            if data_dict[k]['projection'] == 'UTM NORTHERN HEMISPHERE' or data_dict[k]['projection'] == 'UTM SOUTHERN HEMISPHERE': \n",
    "                data_dict[k]['NZone'] = input('Please enter a UTM zone (1 to 60 for Northern Hemisphere; -60 to -1 for Southern Hemisphere):')\n",
    "                data_dict[k]['projection_parameters'] = str('NZone:' + NZone)\n",
    "        else: \n",
    "            print('No reprojection options are supported with your requested format')\n",
    "    print()"
   ]
  },
  {
   "cell_type": "markdown",
   "metadata": {},
   "source": [
    "Now let's select a subset of variables. We'll use these primary variables of interest for the ICESat-2 sea ice and photon height products:\n"
   ]
  },
  {
   "cell_type": "code",
   "execution_count": null,
   "metadata": {},
   "outputs": [],
   "source": [
    "#ATL07\n",
    "#Use only strong beams \n",
    "# 150 returns per segment - you get those over a shorter distance. Better coverage - more dense on\n",
    "\n",
    "data_dict['sea_ice_height']['coverage'] = '/gt1l/sea_ice_segments/delta_time,\\\n",
    "/gt1l/sea_ice_segments/latitude,\\\n",
    "/gt1l/sea_ice_segments/longitude,\\\n",
    "/gt1l/sea_ice_segments/heights/height_segment_confidence,\\\n",
    "/gt1l/sea_ice_segments/heights/height_segment_height,\\\n",
    "/gt1l/sea_ice_segments/heights/height_segment_quality,\\\n",
    "/gt1l/sea_ice_segments/heights/height_segment_surface_error_est,\\\n",
    "/gt2l/sea_ice_segments/delta_time,\\\n",
    "/gt2l/sea_ice_segments/latitude,\\\n",
    "/gt2l/sea_ice_segments/longitude,\\\n",
    "/gt2l/sea_ice_segments/heights/height_segment_confidence,\\\n",
    "/gt2l/sea_ice_segments/heights/height_segment_height,\\\n",
    "/gt2l/sea_ice_segments/heights/height_segment_quality,\\\n",
    "/gt2l/sea_ice_segments/heights/height_segment_surface_error_est,\\\n",
    "/gt3l/sea_ice_segments/delta_time,\\\n",
    "/gt3l/sea_ice_segments/latitude,\\\n",
    "/gt3l/sea_ice_segments/longitude,\\\n",
    "/gt3l/sea_ice_segments/heights/height_segment_confidence,\\\n",
    "/gt3l/sea_ice_segments/heights/height_segment_height,\\\n",
    "/gt3l/sea_ice_segments/heights/height_segment_quality,\\\n",
    "/gt3l/sea_ice_segments/heights/height_segment_surface_error_est'\n",
    "\n",
    "#ATL03\n",
    "#Use only strong beams\n",
    "\n",
    "data_dict['photon_height']['coverage'] = '/ds_surf_type,\\\n",
    "/gt1l/heights/delta_time,\\\n",
    "/gt1l/heights/h_ph,\\\n",
    "/gt1l/heights/lat_ph,\\\n",
    "/gt1l/heights/lon_ph,\\\n",
    "/gt1l/heights/signal_conf_ph,\\\n",
    "/gt2l/heights/delta_time,\\\n",
    "/gt2l/heights/h_ph,\\\n",
    "/gt2l/heights/lat_ph,\\\n",
    "/gt2l/heights/lon_ph,\\\n",
    "/gt2l/heights/signal_conf_ph,\\\n",
    "/gt3l/heights/delta_time,\\\n",
    "/gt3l/heights/h_ph,\\\n",
    "/gt3l/heights/lat_ph,\\\n",
    "/gt3l/heights/lon_ph,\\\n",
    "/gt3l/heights/signal_conf_ph'"
   ]
  },
  {
   "cell_type": "markdown",
   "metadata": {},
   "source": [
    "### Select data access configurations\n",
    "\n",
    "The data request can be accessed asynchronously or synchronously. The asynchronous option will allow concurrent requests to be queued and processed without the need for a continuous connection. Those requested orders will be delivered to the specified email address, or they can be accessed programmatically as shown below. Synchronous requests will automatically download the data as soon as processing is complete. For this tutorial, we will be selecting the asynchronous method. "
   ]
  },
  {
   "cell_type": "code",
   "execution_count": null,
   "metadata": {},
   "outputs": [],
   "source": [
    "#Set NSIDC data access base URL\n",
    "base_url = 'https://n5eil02u.ecs.nsidc.org/egi/request'\n",
    "\n",
    "for k, v in data_dict.items():\n",
    "    #Add email address\n",
    "    data_dict[k]['email'] = email\n",
    "    \n",
    "    #Set the request mode to asynchronous\n",
    "    data_dict[k]['request_mode'] = 'async'\n",
    "\n",
    "    #Set the page size to the maximum for asynchronous requests \n",
    "    page_size = 2000\n",
    "    data_dict[k]['page_size'] = page_size\n",
    "\n",
    "    #Determine number of orders needed for requests over 2000 granules. \n",
    "    page_num = math.ceil(data_dict[k]['gran_num']/page_size)\n",
    "    data_dict[k]['page_num'] = page_num\n",
    "    del data_dict[k]['gran_num']\n",
    "    print('There will be', page_num, 'total order(s) processed for our', v['short_name'], 'request.')"
   ]
  },
  {
   "cell_type": "markdown",
   "metadata": {},
   "source": [
    "### Create the API endpoint \n",
    "\n",
    "Programmatic API requests are formatted as HTTPS URLs that contain key-value-pairs specifying the service operations that we specified above. The following command can be executed via command line, a web browser, or in Python below. "
   ]
  },
  {
   "cell_type": "code",
   "execution_count": null,
   "metadata": {},
   "outputs": [],
   "source": [
    "endpoint_list = [] \n",
    "for k, v in data_dict.items():\n",
    "    param_string = '&'.join(\"{!s}={!r}\".format(k,v) for (k,v) in v.items())\n",
    "    param_string = param_string.replace(\"'\",\"\")\n",
    "    \n",
    "    #Print API base URL + request parameters\n",
    "    API_request = api_request = f'{base_url}?{param_string}'\n",
    "    endpoint_list.append(API_request)\n",
    "    if data_dict[k]['page_num'] > 1:\n",
    "        for i in range(data_dict[k]['page_num']):\n",
    "            page_val = i + 2\n",
    "            data_dict[k]['page_num'] = page_val\n",
    "            API_request = api_request = f'{base_url}?{param_string}'\n",
    "            endpoint_list.append(API_request)\n",
    "\n",
    "print(\"\\n\".join(\"\\n\"+s for s in endpoint_list))"
   ]
  },
  {
   "cell_type": "markdown",
   "metadata": {},
   "source": [
    "### Request data"
   ]
  },
  {
   "cell_type": "markdown",
   "metadata": {},
   "source": [
    "We will now download data using the Python requests library. The data will be downloaded directly to this notebook directory in a new Outputs folder. The progress of each order will be reported."
   ]
  },
  {
   "cell_type": "code",
   "execution_count": null,
   "metadata": {},
   "outputs": [],
   "source": [
    "# Create an output folder if the folder does not already exist.\n",
    "path = str(os.getcwd() + '/Outputs')\n",
    "if not os.path.exists(path):\n",
    "    os.mkdir(path)\n",
    "\n",
    "# Request data service for each page number, and unzip outputs\n",
    "for k, v in data_dict.items():\n",
    "    for i in range(data_dict[k]['page_num']):\n",
    "        page_val = i + 1\n",
    "        print(v['short_name'], 'Order: ', page_val)\n",
    "\n",
    "    # For all requests other than spatial file upload, use get function\n",
    "        request = session.get(base_url, params=v.items())\n",
    "        print('Request HTTP response: ', request.status_code)\n",
    "\n",
    "    # Raise bad request: Loop will stop for bad response code.\n",
    "        request.raise_for_status()\n",
    "        #print('Order request URL: ', request.url)\n",
    "        esir_root = ET.fromstring(request.content)\n",
    "        #print('Order request response XML content: ', request.content)\n",
    "\n",
    "    #Look up order ID\n",
    "        orderlist = []   \n",
    "        for order in esir_root.findall(\"./order/\"):\n",
    "            orderlist.append(order.text)\n",
    "        orderID = orderlist[0]\n",
    "        print('order ID: ', orderID)\n",
    "\n",
    "    #Create status URL\n",
    "        statusURL = base_url + '/' + orderID\n",
    "        print('status URL: ', statusURL)\n",
    "\n",
    "    #Find order status\n",
    "        request_response = session.get(statusURL)    \n",
    "        print('HTTP response from order response URL: ', request_response.status_code)\n",
    "\n",
    "    # Raise bad request: Loop will stop for bad response code.\n",
    "        request_response.raise_for_status()\n",
    "        request_root = ET.fromstring(request_response.content)\n",
    "        statuslist = []\n",
    "        for status in request_root.findall(\"./requestStatus/\"):\n",
    "            statuslist.append(status.text)\n",
    "        status = statuslist[0]\n",
    "        print('Data request ', page_val, ' is submitting...')\n",
    "        print('Initial request status is ', status)\n",
    "\n",
    "    #Continue loop while request is still processing\n",
    "        while status == 'pending' or status == 'processing': \n",
    "            print('Status is not complete. Trying again.')\n",
    "            time.sleep(10)\n",
    "            loop_response = session.get(statusURL)\n",
    "\n",
    "    # Raise bad request: Loop will stop for bad response code.\n",
    "            loop_response.raise_for_status()\n",
    "            loop_root = ET.fromstring(loop_response.content)\n",
    "\n",
    "    #find status\n",
    "            statuslist = []\n",
    "            for status in loop_root.findall(\"./requestStatus/\"):\n",
    "                statuslist.append(status.text)\n",
    "            status = statuslist[0]\n",
    "            print('Retry request status is: ', status)\n",
    "            if status == 'pending' or status == 'processing':\n",
    "                continue\n",
    "\n",
    "    #Order can either complete, complete_with_errors, or fail:\n",
    "    # Provide complete_with_errors error message:\n",
    "        if status == 'complete_with_errors' or status == 'failed':\n",
    "            messagelist = []\n",
    "            for message in loop_root.findall(\"./processInfo/\"):\n",
    "                messagelist.append(message.text)\n",
    "            print('error messages:')\n",
    "            pprint.pprint(messagelist)\n",
    "\n",
    "    # Download zipped order if status is complete or complete_with_errors\n",
    "        if status == 'complete' or status == 'complete_with_errors':\n",
    "            downloadURL = 'https://n5eil02u.ecs.nsidc.org/esir/' + orderID + '.zip'\n",
    "            print('Zip download URL: ', downloadURL)\n",
    "            print('Beginning download of zipped output...')\n",
    "            zip_response = session.get(downloadURL)\n",
    "            # Raise bad request: Loop will stop for bad response code.\n",
    "            zip_response.raise_for_status()\n",
    "            with zipfile.ZipFile(io.BytesIO(zip_response.content)) as z:\n",
    "                z.extractall(path)\n",
    "            print('Data request', page_val, 'is complete.')\n",
    "        else: print('Request failed.')\n",
    "    print()"
   ]
  },
  {
   "cell_type": "code",
   "execution_count": null,
   "metadata": {},
   "outputs": [],
   "source": [
    "print(request.content)"
   ]
  },
  {
   "cell_type": "markdown",
   "metadata": {},
   "source": [
    "### Finally, we will clean up the Output folder by removing individual order folders:"
   ]
  },
  {
   "cell_type": "code",
   "execution_count": null,
   "metadata": {},
   "outputs": [],
   "source": [
    "# Clean up Outputs folder by removing individual granule folders \n",
    "\n",
    "for root, dirs, files in os.walk(path, topdown=False):\n",
    "    for file in files:\n",
    "        try:\n",
    "            shutil.move(os.path.join(root, file), path)\n",
    "        except OSError:\n",
    "            pass\n",
    "    for name in dirs:\n",
    "        os.rmdir(os.path.join(root, name))    "
   ]
  },
  {
   "cell_type": "markdown",
   "metadata": {},
   "source": [
    "### To review, we have explored data availability and volume over a region and time of interest, discovered and selected data customization options, constructed API endpoints for our requests, and downloaded data. Let's move on to the analysis portion of the tutorial."
   ]
  }
 ],
 "metadata": {
  "kernelspec": {
   "display_name": "Python 3",
   "language": "python",
   "name": "python3"
  },
  "language_info": {
   "codemirror_mode": {
    "name": "ipython",
    "version": 3
   },
   "file_extension": ".py",
   "mimetype": "text/x-python",
   "name": "python",
   "nbconvert_exporter": "python",
   "pygments_lexer": "ipython3",
   "version": "3.7.3"
  }
 },
 "nbformat": 4,
 "nbformat_minor": 4
}
