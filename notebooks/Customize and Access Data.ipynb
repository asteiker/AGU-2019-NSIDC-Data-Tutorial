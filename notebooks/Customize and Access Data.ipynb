{
 "cells": [
  {
   "cell_type": "markdown",
   "metadata": {},
   "source": [
    "# Discover, Customize and Access NSIDC DAAC Data\n",
    "\n",
    "This notebook is based off of the [NSIDC-Data-Access-Notebook](https://github.com/nsidc/NSIDC-Data-Access-Notebook) provided through NSIDC's Github organization. \n",
    "\n",
    "Now that we've visualized our study areas, we will first explore data coverage, size, and customization (subsetting, reformatting, reprojection) service availability, and then access those associated files. The `Data access for all datasets` notebook provides the steps needed to subset and download all the data we'll be using in the final `Visualize and Analyze Data`.\n",
    "\n",
    "___A note on data access options:___\n",
    "We will be pursuing data discovery and access \"programmatically\" using Application Programming Interfaces, or APIs. \n",
    "\n",
    "*What is an API?* You can think of an API as a middle man between an application or end-use (in this case, us) and a data provider. In this case, the data provider is both the metadata repository housing data information (the Common Metadata Repository, or CMR) and NSIDC as the data distributor. These APIs are generally structured as a URL with a base plus individual key-value-pairs separated by ‘&’.\n",
    "\n",
    "There are other discovery and access methods available from NSIDC as we walked through in the `Introduction` notebook, including access from the data set landing page 'Download Data' tab (e.g. [ATL07 Data Access](https://nsidc.org/data/atl07?qt-data_set_tabs=1#qt-data_set_tabs)) and [NASA Earthdata Search](https://search.earthdata.nasa.gov/).\n",
    "\n",
    "Here are the steps you will learn in this customize and access notebook:\n",
    "   \n",
    "1. Search for data programmatically using the Common Metadata Repository API by time and area of interest.\n",
    "2. Determine subsetting, reformatting, and reprojection capabilities for our data of interest.\n",
    "3. Access and customize data using NSIDC's data access and service API.\n",
    "\n",
    "[DISCOVER MOD29 ON YOUR OWN]\n"
   ]
  },
  {
   "cell_type": "markdown",
   "metadata": {},
   "source": [
    "## Import packages\n"
   ]
  },
  {
   "cell_type": "code",
   "execution_count": null,
   "metadata": {},
   "outputs": [],
   "source": [
    "#%run functions.py"
   ]
  },
  {
   "cell_type": "code",
   "execution_count": null,
   "metadata": {},
   "outputs": [],
   "source": [
    "import requests\n",
    "import getpass\n",
    "import json\n",
    "\n",
    "# This is our functions module. We created several functions used in this notebook and the Visualize and Analyze notebook.\n",
    "import functions"
   ]
  },
  {
   "cell_type": "markdown",
   "metadata": {},
   "source": [
    "## Explore data availability using the Common Metadata Repository \n",
    "\n",
    "The Common Metadata Repository (CMR) is a high-performance, high-quality, continuously evolving metadata system that catalogs Earth Science data and associated service metadata records. These metadata records are registered, modified, discovered, and accessed through programmatic interfaces leveraging standard protocols and APIs.\n",
    "\n",
    "https://cmr.earthdata.nasa.gov/search/site/docs/search/api.html"
   ]
  },
  {
   "cell_type": "markdown",
   "metadata": {},
   "source": [
    "### Select data set and determine version number\n",
    "\n",
    "Data sets are selected by data set IDs (e.g. ATL07).  In the CMR API documentation, a data set ids is referred to as a \"short name\". [HOW DO YOU FIND A DATASET SHORTNAME?] We use the python requests package to access the CMR. This search does not require a password.  "
   ]
  },
  {
   "cell_type": "code",
   "execution_count": null,
   "metadata": {},
   "outputs": [],
   "source": [
    "CMR_COLLECTIONS_URL = 'https://cmr.earthdata.nasa.gov/search/collections.json'\n",
    "response = requests.get(CMR_COLLECTIONS_URL, params={'short_name': 'ATL07'})"
   ]
  },
  {
   "cell_type": "markdown",
   "metadata": {},
   "source": [
    "Data are then converted to [JSON](https://en.wikipedia.org/wiki/JSON) format; a language independant human-readable open-standard file format."
   ]
  },
  {
   "cell_type": "code",
   "execution_count": null,
   "metadata": {},
   "outputs": [],
   "source": [
    "results = json.loads(response.content)\n",
    "results"
   ]
  },
  {
   "cell_type": "markdown",
   "metadata": {},
   "source": [
    "More than one version can exist for a given data set:"
   ]
  },
  {
   "cell_type": "code",
   "execution_count": null,
   "metadata": {},
   "outputs": [],
   "source": [
    "for entry in results['feed']['entry']:\n",
    "    functions.print_cmr_metadata(entry)"
   ]
  },
  {
   "cell_type": "markdown",
   "metadata": {},
   "source": [
    "We will specify the most recent version, `002`, for our remaining ATL07 queries."
   ]
  },
  {
   "cell_type": "markdown",
   "metadata": {},
   "source": [
    "### Select time and area of interest"
   ]
  },
  {
   "cell_type": "markdown",
   "metadata": {},
   "source": [
    "We will create a simple dictionary with our short name, version, time, and area of interest. We'll continue to add to this dictionary as we discover more information about our data set."
   ]
  },
  {
   "cell_type": "code",
   "execution_count": null,
   "metadata": {},
   "outputs": [],
   "source": [
    "# Bounding Box spatial parameter in decimal degree 'W,S,E,N' format. This is our region of interest over the East Siberian Sea.\n",
    "\n",
    "bounding_box = '140,72,153,80' "
   ]
  },
  {
   "cell_type": "code",
   "execution_count": null,
   "metadata": {},
   "outputs": [],
   "source": [
    "# Each date in yyyy-MM-ddTHH:mm:ssZ format\n",
    "# Date range in start,end format\n",
    "\n",
    "temporal = '2019-03-23T00:00:00Z,2019-03-23T23:59:59Z'"
   ]
  },
  {
   "cell_type": "code",
   "execution_count": null,
   "metadata": {},
   "outputs": [],
   "source": [
    "data_dict = {'short_name': 'ATL07', \n",
    "             'version': '002',\n",
    "             'bounding_box': bounding_box, \n",
    "             'temporal': temporal }"
   ]
  },
  {
   "cell_type": "markdown",
   "metadata": {},
   "source": [
    "### Determine how many files exist over this time and area of interest, as well as the average size and total volume of those granules\n",
    "\n",
    "We will use the `granule_info` function to query the CMR granule API. The function prints the number of granules, average size, and total volume of those granules. It returns the granule number value, which we will add to our data dictionary."
   ]
  },
  {
   "cell_type": "code",
   "execution_count": null,
   "metadata": {},
   "outputs": [],
   "source": [
    "gran_num = functions.granule_info(data_dict)\n",
    "data_dict['gran_num'] = gran_num"
   ]
  },
  {
   "cell_type": "markdown",
   "metadata": {},
   "source": [
    "Note that subsetting, reformatting, or reprojecting can alter the size of the granules if those services are applied to your request."
   ]
  },
  {
   "cell_type": "markdown",
   "metadata": {},
   "source": [
    "## Determine the subsetting, reformatting, and reprojection services enabled for your data set of interest."
   ]
  },
  {
   "cell_type": "markdown",
   "metadata": {},
   "source": [
    "The NSIDC DAAC supports customization (subsetting, reformatting, reprojection) services on many of our NASA Earthdata mission collections. Let's discover whether or not our data set has these services available using the `print_service_options` function. If services are available, we will also determine the specific service options supported for this data set, which we will then add to our data dictionary. "
   ]
  },
  {
   "cell_type": "markdown",
   "metadata": {},
   "source": [
    "### Input Earthdata Login credentials\n",
    "\n",
    "An Earthdata Login account is required to query data services and to access data from the NSIDC DAAC. If you do not already have an Earthdata Login account, visit http://urs.earthdata.nasa.gov to register. We will input our credentials below, and we'll add our email address to our dictionary for use in our final access request."
   ]
  },
  {
   "cell_type": "code",
   "execution_count": null,
   "metadata": {},
   "outputs": [],
   "source": [
    "#Store Earthdata Login user name\n",
    "uid = 'amy.steiker'\n",
    "\n",
    "#Input and store Earthdata Login password\n",
    "pswd = getpass.getpass('Earthdata Login password: ')\n",
    "\n",
    "#Store email associated with Earthata Login account\n",
    "email = 'amy.steiker@nsidc.org'\n",
    "data_dict['email'] = email"
   ]
  },
  {
   "cell_type": "markdown",
   "metadata": {},
   "source": [
    "We now need to create an HTTP session in order to store cookies and pass our credentials to the data service URLs. The capability URL below is what we will query to determine service information. "
   ]
  },
  {
   "cell_type": "code",
   "execution_count": null,
   "metadata": {},
   "outputs": [],
   "source": [
    "# Query service capability URL \n",
    "capability_url = f'https://n5eil02u.ecs.nsidc.org/egi/capabilities/{data_dict[\"short_name\"]}.{data_dict[\"version\"]}.xml'\n",
    "\n",
    "# Create session to store cookie and pass credentials to capabilities url\n",
    "session = requests.session()\n",
    "s = session.get(capability_url)\n",
    "response = session.get(s.url,auth=(uid,pswd))\n",
    "#DO AN HTTPS RESPONSE CHECK TO CHECK FOR PWSD"
   ]
  },
  {
   "cell_type": "markdown",
   "metadata": {},
   "source": [
    "This function provides a list of all available services:"
   ]
  },
  {
   "cell_type": "code",
   "execution_count": null,
   "metadata": {},
   "outputs": [],
   "source": [
    "functions.print_service_options(data_dict, response)"
   ]
  },
  {
   "cell_type": "markdown",
   "metadata": {},
   "source": [
    "### Populate data dictionary with services of interest\n",
    "\n",
    "We already added our CMR search keywords to our data dictionary, so now we need to add the service options we want to request. A list of all available service keywords for use with NSIDC's access and service API are available in our [Key-Value-Pair table](https://nsidc.org/support/tool/table-key-value-pair-kvp-operands-subsetting-reformatting-and-reprojection-services), as a part of our [Programmatic access guide](https://nsidc.org/support/how/how-do-i-programmatically-request-data-services). For our ATL07 request, we are interested in bounding box, temporal, and variable subsetting. These options crop the data values to the specified ranges and variables of interest. We will enter those values into our data dictionary below: \n",
    "\n",
    "[MAKE SURE THE RANGE ONLY RETURNS 3 GRANULES]\n"
   ]
  },
  {
   "cell_type": "code",
   "execution_count": null,
   "metadata": {},
   "outputs": [],
   "source": [
    "# Bounding box subsetting\n",
    "# Output files are cropped to the specified bounding box extent.\n",
    "# Just like with the CMR bounding box search parameter, this value is provided in decimal degree 'W,S,E,N' format. \n",
    "\n",
    "data_dict['bbox'] = '140,72,153,80'\n",
    "\n",
    "# Temporal subsetting \n",
    "# Output files are cropped to the specified temporal range extent.\n",
    "# Each date in yyyy-MM-ddTHH:mm:ss format\n",
    "# Date range in start,end format\n",
    "\n",
    "data_dict['time'] = '2019-03-23T00:00:00,2019-03-23T23:59:59'\n",
    "\n",
    "# Variable subsetting \n",
    "# Subsets the data set variable or group of variables. For hiearchical data, all lower level variables are returned if a variable group or subgroup is specified. \n",
    "# For ATL07, we will use only strong beams since these groups contain higher coverage and resolution due to higher surface returns. \n",
    "# According to the user guide, the spacecraft was in the backwards orientation during our day of interest, setting the gt*l beams as the strong beams. \n",
    "# We'll use these primary geolocation, height and quality variables of interest for each of the three strong beams:\n",
    "\n",
    "data_dict['coverage'] = '/gt1l/sea_ice_segments/delta_time,\\\n",
    "/gt1l/sea_ice_segments/latitude,\\\n",
    "/gt1l/sea_ice_segments/longitude,\\\n",
    "/gt1l/sea_ice_segments/heights/height_segment_confidence,\\\n",
    "/gt1l/sea_ice_segments/heights/height_segment_height,\\\n",
    "/gt1l/sea_ice_segments/heights/height_segment_quality,\\\n",
    "/gt1l/sea_ice_segments/heights/height_segment_surface_error_est,\\\n",
    "/gt1l/sea_ice_segments/heights/height_segment_length_seg,\\\n",
    "/gt2l/sea_ice_segments/delta_time,\\\n",
    "/gt2l/sea_ice_segments/latitude,\\\n",
    "/gt2l/sea_ice_segments/longitude,\\\n",
    "/gt2l/sea_ice_segments/heights/height_segment_confidence,\\\n",
    "/gt2l/sea_ice_segments/heights/height_segment_height,\\\n",
    "/gt2l/sea_ice_segments/heights/height_segment_quality,\\\n",
    "/gt2l/sea_ice_segments/heights/height_segment_surface_error_est,\\\n",
    "/gt2l/sea_ice_segments/heights/height_segment_length_seg,\\\n",
    "/gt3l/sea_ice_segments/delta_time,\\\n",
    "/gt3l/sea_ice_segments/latitude,\\\n",
    "/gt3l/sea_ice_segments/longitude,\\\n",
    "/gt3l/sea_ice_segments/heights/height_segment_confidence,\\\n",
    "/gt3l/sea_ice_segments/heights/height_segment_height,\\\n",
    "/gt3l/sea_ice_segments/heights/height_segment_quality,\\\n",
    "/gt3l/sea_ice_segments/heights/height_segment_surface_error_est,\\\n",
    "/gt3l/sea_ice_segments/heights/height_segment_length_seg'"
   ]
  },
  {
   "cell_type": "markdown",
   "metadata": {},
   "source": [
    "### Select data access configurations\n",
    "\n",
    "The data request can be accessed asynchronously or synchronously. The asynchronous option will allow concurrent requests to be queued and processed without the need for a continuous connection. Those requested orders will be delivered to the specified email address, or they can be accessed programmatically as shown below. Synchronous requests will automatically download the data as soon as processing is complete. For this tutorial, we will be selecting the asynchronous method. "
   ]
  },
  {
   "cell_type": "code",
   "execution_count": null,
   "metadata": {},
   "outputs": [],
   "source": [
    "# Set NSIDC data access base URL\n",
    "base_url = 'https://n5eil02u.ecs.nsidc.org/egi/request'\n",
    "\n",
    "# Set the request mode to asynchronous\n",
    "data_dict['request_mode'] = 'async'\n",
    "\n",
    "# Set the page size, which equals the number of output files returned. The maximum is 2000, so we will set to this value to ensure the maximum is returned.\n",
    "# data_dict['page_size'] = 2000"
   ]
  },
  {
   "cell_type": "markdown",
   "metadata": {},
   "source": [
    "## Create the data request API endpoint \n",
    "Programmatic API requests are formatted as HTTPS URLs that contain key-value-pairs specifying the service operations that we specified above. We will first create a string of key-value-pairs from our data dictionary and we'll feed those into our API endpoint below. "
   ]
  },
  {
   "cell_type": "code",
   "execution_count": null,
   "metadata": {},
   "outputs": [],
   "source": [
    "# Create a new param_dict with CMR configuration parameters removed from our data_dict \n",
    "param_dict = dict((i, data_dict[i]) for i in data_dict if i!='gran_num' and i!='page_num' and i!='page_size')\n",
    "\n",
    "#Convert param_dict to string\n",
    "param_string = '&'.join(\"{!s}={!r}\".format(k,v) for (k,v) in param_dict.items())\n",
    "param_string = param_string.replace(\"'\",\"\")"
   ]
  },
  {
   "cell_type": "markdown",
   "metadata": {},
   "source": [
    "The following API endpoint can be executed via command line, a web browser, or in Python below. "
   ]
  },
  {
   "cell_type": "code",
   "execution_count": null,
   "metadata": {},
   "outputs": [],
   "source": [
    "#Print API base URL + request parameters\n",
    "\n",
    "API_request = f'{base_url}?{param_string}'\n",
    "print(API_request)"
   ]
  },
  {
   "cell_type": "markdown",
   "metadata": {},
   "source": [
    "## Request data"
   ]
  },
  {
   "cell_type": "markdown",
   "metadata": {},
   "source": [
    "We will now download data using the `request_data` function, which utilizes the Python requests library. Our param_dict and HTTP session will be passed to the function to allow Earthdata Login access. The data will be downloaded directly to this notebook directory in a new Outputs folder. The progress of the order will be reported."
   ]
  },
  {
   "cell_type": "code",
   "execution_count": null,
   "metadata": {},
   "outputs": [],
   "source": [
    "functions.request_data(param_dict,session)"
   ]
  },
  {
   "cell_type": "markdown",
   "metadata": {},
   "source": [
    "### Finally, we will clean up the Output folder by removing individual order folders using the `clean_folder` function."
   ]
  },
  {
   "cell_type": "code",
   "execution_count": null,
   "metadata": {},
   "outputs": [],
   "source": [
    "functions.clean_folder()"
   ]
  },
  {
   "cell_type": "markdown",
   "metadata": {},
   "source": [
    "To review, we have explored data availability and volume over a region and time of interest, discovered and selected data customization options, constructed API endpoints for our requests, and downloaded data. Let's move on to the analysis portion of the tutorial."
   ]
  }
 ],
 "metadata": {
  "kernelspec": {
   "display_name": "Python 3",
   "language": "python",
   "name": "python3"
  },
  "language_info": {
   "codemirror_mode": {
    "name": "ipython",
    "version": 3
   },
   "file_extension": ".py",
   "mimetype": "text/x-python",
   "name": "python",
   "nbconvert_exporter": "python",
   "pygments_lexer": "ipython3",
   "version": "3.7.3"
  }
 },
 "nbformat": 4,
 "nbformat_minor": 4
}
