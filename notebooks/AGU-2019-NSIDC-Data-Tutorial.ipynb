{
 "cells": [
  {
   "cell_type": "markdown",
   "metadata": {},
   "source": [
    "# Getting the most out of NSIDC DAAC data: Harmonizing disparate data for land and sea ice applications\n",
    "\n",
    "This tutorial will walk you through data discovery, access, and analysis of NSIDC DAAC data...\n",
    "\n",
    "\n",
    "Here are the steps you will learn in this tutorial:\n",
    "  \n",
    "   * Learn the basics of Jupyter Lab and Jupyter Notebook\n",
    "   * Visualize time and area of interest using NASA Worldview / OpenAltimetry\n",
    "   * Search for data programmatically by time and area of interest.\n",
    "   * Determine subsetting and reformatting capabilities for our data of interest.\n",
    "   * Access and customize data using NSIDC's API service.\n",
    "       * ICESat-2\n",
    "       * CETB\n",
    "       * Ice velocity\n",
    "       * Passive microwave\n",
    "   * Plot ATL03 photon data along with higher level ATL06/ATL10 data\n",
    "   * Filter ICESat-2 data by quality flag\n",
    "   * Use xarray to extract gridded data along ICESat-2 tracks.\n",
    "   * Plot data with MODIS true color WMS endpoint. \n",
    "\n"
   ]
  },
  {
   "cell_type": "markdown",
   "metadata": {},
   "source": [
    "### Import Packages"
   ]
  },
  {
   "cell_type": "code",
   "execution_count": 1,
   "metadata": {},
   "outputs": [],
   "source": [
    "import requests\n",
    "import getpass\n",
    "import socket\n",
    "import json\n",
    "import zipfile\n",
    "import io\n",
    "import math\n",
    "import os\n",
    "import shutil\n",
    "import pprint\n",
    "import time\n",
    "import geopandas as gpd\n",
    "import matplotlib.pyplot as plt\n",
    "import cartopy.crs as ccrs\n",
    "import fiona\n",
    "import h5py\n",
    "import re\n",
    "import import_ipynb\n",
    "from ipynb.fs.full.Functions import *\n",
    "# To read KML files with geopandas, we will need to enable KML support in fiona (disabled by default)\n",
    "fiona.drvsupport.supported_drivers['LIBKML'] = 'rw'\n",
    "from shapely.geometry import Polygon, mapping\n",
    "from shapely.geometry.polygon import orient\n",
    "from statistics import mean\n",
    "from requests.auth import HTTPBasicAuth"
   ]
  },
  {
   "cell_type": "markdown",
   "metadata": {},
   "source": [
    "### Introduction to NSIDC and NSIDC data resources\n",
    "\n"
   ]
  },
  {
   "cell_type": "code",
   "execution_count": null,
   "metadata": {},
   "outputs": [],
   "source": []
  },
  {
   "cell_type": "markdown",
   "metadata": {},
   "source": [
    "### Search for data programmatically by time and area of interest.\n"
   ]
  },
  {
   "cell_type": "code",
   "execution_count": 2,
   "metadata": {},
   "outputs": [],
   "source": [
    "# Input data set short name (example: ATL06)\n",
    "dataset = 'ATL06'"
   ]
  },
  {
   "cell_type": "code",
   "execution_count": 3,
   "metadata": {},
   "outputs": [
    {
     "name": "stdout",
     "output_type": "stream",
     "text": [
      "The most recent version of  ATL06  is  001\n"
     ]
    }
   ],
   "source": [
    "# Find all instances of 'version_id' in metadata and print most recent version number\n",
    "params = {\n",
    "    'short_name': dataset\n",
    "}\n",
    "cmr_collections_url = 'https://cmr.earthdata.nasa.gov/search/collections.json'\n",
    "response = requests.get(cmr_collections_url, params=params)\n",
    "results = json.loads(response.content)\n",
    "# Find most recent version number\n",
    "versions = [el['version_id'] for el in results['feed']['entry']]\n",
    "latest_version = max(versions)\n",
    "print('The most recent version of ', dataset, ' is ', latest_version)"
   ]
  },
  {
   "cell_type": "code",
   "execution_count": 4,
   "metadata": {},
   "outputs": [
    {
     "name": "stdout",
     "output_type": "stream",
     "text": [
      "2019-02-22T00:00:00Z,2019-05-22T23:59:59Z\n"
     ]
    }
   ],
   "source": [
    "# Input temporal range \n",
    "\n",
    "# Input start date in yyyy-MM-dd format\n",
    "start_date = '2019-02-22'\n",
    "# Input start time in HH:mm:ss format\n",
    "start_time = '00:00:00'\n",
    "# Input end date in yyyy-MM-dd format\n",
    "end_date = '2019-05-22'\n",
    "# Input end time in HH:mm:ss format\n",
    "end_time = '23:59:59'\n",
    "\n",
    "temporal = start_date + 'T' + start_time + 'Z' + ',' + end_date + 'T' + end_time + 'Z'\n",
    "print(temporal)\n"
   ]
  },
  {
   "cell_type": "code",
   "execution_count": 5,
   "metadata": {},
   "outputs": [
    {
     "name": "stdout",
     "output_type": "stream",
     "text": [
      "-64,66,-55,72\n"
     ]
    }
   ],
   "source": [
    "# Bounding Box spatial parameter in 'W,S,E,N' format\n",
    "\n",
    "# Input lower left longitude in decimal degrees\n",
    "LL_lon = '-64'\n",
    "# Input lower left latitude in decimal degrees\n",
    "LL_lat = '66'\n",
    "# Input upper right longitude in decimal degrees\n",
    "UR_lon = '-55'\n",
    "# Input upper right latitude in decimal degrees\n",
    "UR_lat = '72'\n",
    "\n",
    "bounding_box = LL_lon + ',' + LL_lat + ',' + UR_lon + ',' + UR_lat\n",
    "print(bounding_box)"
   ]
  },
  {
   "cell_type": "code",
   "execution_count": 6,
   "metadata": {},
   "outputs": [
    {
     "name": "stdout",
     "output_type": "stream",
     "text": [
      "There are 67 granules of ATL06 version 001 over my area and time of interest.\n",
      "The average size of each granule is 34.22 MB and the total size of all 67 granules is 2292.81 MB\n"
     ]
    }
   ],
   "source": [
    "data_search(dataset, latest_version, temporal, bounding_box)"
   ]
  },
  {
   "cell_type": "markdown",
   "metadata": {},
   "source": [
    "Note that subsetting, reformatting, or reprojecting can alter the size of the granules if those services are applied to your request."
   ]
  },
  {
   "cell_type": "markdown",
   "metadata": {},
   "source": [
    "### Input Earthdata Login credentials\n",
    "\n",
    "An Earthdata Login account is required to access data from the NSIDC DAAC. If you do not already have an Earthdata Login account, visit http://urs.earthdata.nasa.gov to register."
   ]
  },
  {
   "cell_type": "code",
   "execution_count": 7,
   "metadata": {},
   "outputs": [
    {
     "name": "stdin",
     "output_type": "stream",
     "text": [
      "Earthdata Login user name:  amy.steiker\n",
      "Earthdata Login password:  ·········\n",
      "Email address associated with Earthdata Login account:  amy.steiker@nsidc.org\n"
     ]
    }
   ],
   "source": [
    "# Earthdata Login credentials\n",
    "\n",
    "uid = input('Earthdata Login user name: ')\n",
    "pswd = getpass.getpass('Earthdata Login password: ')\n",
    "email = input('Email address associated with Earthdata Login account: ')"
   ]
  },
  {
   "cell_type": "markdown",
   "metadata": {},
   "source": [
    "### Select the subsetting, reformatting, and reprojection services enabled for your data set of interest.\n",
    "\n",
    "The NSIDC DAAC supports customization services on many of our NASA Earthdata mission collections. Let's discover whether or not our data set has these services available. If services are available, we will also determine the specific service options supported for this data set and select which of these services we want to request."
   ]
  },
  {
   "cell_type": "code",
   "execution_count": 8,
   "metadata": {},
   "outputs": [
    {
     "name": "stdin",
     "output_type": "stream",
     "text": [
      "Subsetting by bounding box, based on the area of interest inputted above, is available. Would you like to request this service? (y/n) y\n",
      "Subsetting by time, based on the temporal range inputted above, is available. Would you like to request this service? (y/n) y\n"
     ]
    },
    {
     "name": "stdout",
     "output_type": "stream",
     "text": [
      "These reformatting options are available: ['TABULAR_ASCII', 'NetCDF4-CF', 'Shapefile', 'NetCDF-3']\n"
     ]
    },
    {
     "name": "stdin",
     "output_type": "stream",
     "text": [
      "If you would like to reformat, copy and paste the reformatting option you would like (make sure to omit quotes, e.g. GeoTIFF), otherwise leave blank. \n"
     ]
    },
    {
     "name": "stdout",
     "output_type": "stream",
     "text": [
      "No reprojection options are supported with your requested format\n"
     ]
    }
   ],
   "source": [
    "service_search(dataset, latest_version, bounding_box, temporal, uid, pswd)"
   ]
  },
  {
   "cell_type": "markdown",
   "metadata": {},
   "source": [
    "### Access and customize data using NSIDC's API\n",
    "\n"
   ]
  },
  {
   "cell_type": "markdown",
   "metadata": {},
   "source": [
    "- Feed data into API request\n",
    "- Print API requests \n",
    "- Put data in Outputs folder"
   ]
  },
  {
   "cell_type": "markdown",
   "metadata": {},
   "source": [
    "### Sea Ice use case: Explore how ICESat-2 can help map fast ice\n",
    "\n",
    "Cycle 2, Track 1298, March 23, 2019. The track crosses the East Siberian Sea, going from land to fast ice, to drift ice including some new ice growth, and is nearly completely clear sky. The thought here is that ICESat-2 could potentially help map fast ice, which is rather difficult to do automatically with satellite imagery. My thought is that the fast ice should have less height/freeboard variability - less surface roughness. It also crosses new ice in a flaw lead as the drift ice moves away from the fast ice edge. So there is a good graduation of ice thickness from new ice to thicker first-year ice. So this could show how well ICESat-2 performs at different ice thicknesses. We could use MODIS reflectance to estimate thin ice thickness, and/or we could also use SMAP. The other neat thing is that there is a cross-over with another track, 1305, on the same day. So could look at the cross-over and compare elevation/freeboard. This point is over drift ice, so it likely wouldn’t be the same floe since it’s 7 orbits later (~12 hours), but if nothing else it would demonstrate how to compare cross-over. (We could use all six beams to get the full 36 crossovers, or maybe just the 3 strong beams to get 9 crossovers - that might be able to capture some of the same floes).\n",
    "\n",
    " \n",
    "1. CMR search to find MYD29E1D.6, SMAP (what data set?), and MODIS IST (MOD29) over East Siberian Sea bounding box over 3/23/19\n",
    "2. Look on OA and/or Worldview to confirm coverage\n",
    "3. Determine projections, formats, file structures, and parameters\n",
    "4. Set customization options\n",
    "5. Access data\n",
    "6. Linear relationship: Apply empirical formulas using coefficients for water and ice\n",
    "7. Comparing cross overs\n",
    "8. Plot results"
   ]
  },
  {
   "cell_type": "markdown",
   "metadata": {},
   "source": [
    "### Land Ice use case: Correlate velocity with elevation?\n",
    "\n",
    "Cycle 1, Track 285, Oct. 17, 2018\n",
    "Cycle 3, Track 338, Apr. 20, 2019 - might have some clouds\n",
    "Cycle 2, Track 1283, Mar. 22, 2019\n",
    "Cycle 2, Track 1291, Mar. 23, 2019 - this crosses the mouth of Jakobshavn, not sure if it would catch the edge of the ice tongue, but may get some sea ice as well\n",
    "\n"
   ]
  },
  {
   "cell_type": "markdown",
   "metadata": {},
   "source": [
    "### Data filtering by quality flag\n",
    "\n",
    "\n"
   ]
  },
  {
   "cell_type": "markdown",
   "metadata": {},
   "source": [
    "### Xarray to extract gridded data along ICESat-2 tracks\n"
   ]
  },
  {
   "cell_type": "code",
   "execution_count": null,
   "metadata": {},
   "outputs": [],
   "source": []
  },
  {
   "cell_type": "markdown",
   "metadata": {},
   "source": [
    "### Plot data with MODIS true color WMS endpoint"
   ]
  },
  {
   "cell_type": "code",
   "execution_count": 9,
   "metadata": {},
   "outputs": [],
   "source": [
    "url = 'https://gibs.earthdata.nasa.gov/twms/epsg4326/best/twms.cgi?request=GetMap&layers=MODIS_Terra_CorrectedReflectance_TrueColor&srs=EPSG:4326&format=image/jpeg&styles=&time=2012-07-09&width=512&height=512&bbox=-18,27,-13.5,31.5'"
   ]
  },
  {
   "cell_type": "code",
   "execution_count": null,
   "metadata": {},
   "outputs": [],
   "source": []
  }
 ],
 "metadata": {
  "kernelspec": {
   "display_name": "Python 3",
   "language": "python",
   "name": "python3"
  },
  "language_info": {
   "codemirror_mode": {
    "name": "ipython",
    "version": 3
   },
   "file_extension": ".py",
   "mimetype": "text/x-python",
   "name": "python",
   "nbconvert_exporter": "python",
   "pygments_lexer": "ipython3",
   "version": "3.7.3"
  }
 },
 "nbformat": 4,
 "nbformat_minor": 4
}
