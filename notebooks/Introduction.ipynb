{
 "cells": [
  {
   "cell_type": "markdown",
   "metadata": {},
   "source": [
    "# Getting the most out of NSIDC DAAC data: Discovering, Accessing, and Harmonizing Arctic Remote Sensing Data\n",
    "\n",
    "Welcome to the NSIDC DAAC's hands-on tutorial at the 2019 AGU Fall Meeting! \n",
    "\n",
    "#### The learning objectives of this tutorial include:\n",
    "\n",
    "* Become familiar with NSIDC resources, including user support documents, data access options, and data subsetting services.\n",
    "* Learn how to access and subset data programmatically using the NSIDC DAAC's API service.\n",
    "* Learn about the coverage, resolution, and structure of sea ice data from new NASA ICESat-2 mission.\n",
    "* Interact with ICESat-2 and MODIS data using basic Python science libraries to visualize, filter, and plot concurrent data.\n",
    "\n",
    "The tutorial is divided into three main Jupyter Notebooks: __Introduction__, __Customize and Access Data__, and __Visualize and Analyze Data__. Here are the steps you will learn in this Introduction notebook:\n",
    "  \n",
    "1. Learn the basics of Jupyter Lab and Jupyter Notebook\n",
    "2. Explore NSIDC data availability and resources\n",
    "3. Get introduced to the Arctic sea ice case study\n",
    "4. Visualize time and area of interest using OpenAltimetry \n",
    "   \n",
    "\n",
    " Let's get started!\n",
    " ___"
   ]
  },
  {
   "cell_type": "markdown",
   "metadata": {},
   "source": [
    "## Notebook Basics\n",
    "The body of a notebook is composed of cells. Each cell contains either markdown, code input, code output, or raw text. Cells can be included in any order and edited at-will, allowing for a large ammount of flexibility for constructing a narrative.\n",
    "\n",
    "- **Markdown cells** - These are used to build a nicely formatted narrative around the code in the document. \n",
    "\n",
    "- **Code cells** - These are used to define the computational code in the document. They come in two forms: the *input cell* where the user types the code to be executed, and the *output cell* which is the representation of the executed code. \n",
    "\n",
    "- **Raw cells** - These are used when text needs to be included in raw form, without execution or transformation.\n"
   ]
  },
  {
   "cell_type": "markdown",
   "metadata": {},
   "source": [
    "### Execute a cell or selected cells by pressing shift + enter"
   ]
  },
  {
   "cell_type": "code",
   "execution_count": 2,
   "metadata": {},
   "outputs": [
    {
     "name": "stdout",
     "output_type": "stream",
     "text": [
      "Hello World!\n"
     ]
    }
   ],
   "source": [
    "print('Hello World!')"
   ]
  },
  {
   "cell_type": "markdown",
   "metadata": {},
   "source": [
    "### Execute a cell and insert new cell below by pressing Alt + Enter"
   ]
  },
  {
   "cell_type": "code",
   "execution_count": 7,
   "metadata": {},
   "outputs": [
    {
     "name": "stdout",
     "output_type": "stream",
     "text": [
      "Hello World!\n"
     ]
    }
   ],
   "source": [
    "print('Hello World!')"
   ]
  },
  {
   "cell_type": "markdown",
   "metadata": {},
   "source": [
    "### Bulk comment and uncomment by selecting code and pressing Ctrl + /"
   ]
  },
  {
   "cell_type": "code",
   "execution_count": 1,
   "metadata": {},
   "outputs": [
    {
     "name": "stdout",
     "output_type": "stream",
     "text": [
      "Amy\n",
      "1\n",
      "2.6\n",
      "True\n",
      "3000\n",
      "['frisbee', 'ball']\n"
     ]
    }
   ],
   "source": [
    "dog = ['Amy', 1, 2.6, True, 3000, ['frisbee', 'ball']]\n",
    "for i in dog:\n",
    "     print(i)"
   ]
  },
  {
   "cell_type": "markdown",
   "metadata": {},
   "source": [
    "### Execute multiple cells or run the entire notebook \n",
    "\n",
    " * Select cells with **shift + Up or shift + Down** and then execute selection with **shift + enter.**\n",
    " \n",
    " * Run the whole notebook in a single step by clicking on the menu **Run -> Run All Cells.**\n",
    " \n",
    "\n",
    "___"
   ]
  },
  {
   "cell_type": "markdown",
   "metadata": {},
   "source": [
    "To collapse an output...."
   ]
  },
  {
   "cell_type": "markdown",
   "metadata": {},
   "source": [
    "## Overview of NSIDC - data discovery and access thru the website\n",
    "\n",
    "## Looking for more data?\n",
    "\n",
    "* NSIDC Search\n",
    "* Landing page downloads (show with ATL03/7)\n",
    "* Earthdata SEarch for all NASA DAAC Data\n",
    "* etc.\n",
    "\n",
    "___"
   ]
  },
  {
   "cell_type": "markdown",
   "metadata": {},
   "source": [
    " ## NASA's ICESat-2 mission\n",
    "  The Ice, Cloud, and Land Elevation Satellite-2 (ICESat-2) carries the Advanced Topographic Laser Altimeter System (ATLAS), a photon-counting laser altimeter, that measures the height of Earth's changing polar regions. The ATLAS instrument releases 10,000 laser pulses per second, split into 3 weak/strong beam pairs at a wavelength of 532 nanaometers (bright green on the visible spectrum). Measurements are taken every 70 cm along the satellite's ground track with a footprint diameter of 17 m. The beam pairs are spaced 3.3 km apart, with a distance of 90 m between each weak and strong beam. ICESat-2 orbits Earth every 91 days to allow scientists to track height changes in all four seasons. In addition to land ice and sea ice, ICESat-2 also measures the height of vegetation, land surface, water, and clouds.\n",
    "  \n",
    "  \n",
    "<div>\n",
    "<img src=\"https://nsidc.org/sites/nsidc.org/files/images/atlas-beam-pattern.png\" width=\"800\"/>\n",
    "</div>\n",
    "  \n",
    "  ### Data references \n",
    "  \n",
    "  * [ICESat-2](https://nsidc.org/data/icesat-2): \n",
    "The Ice, Cloud, and Land Elevation Satellite-2\n",
    "* [ATL03](https://nsidc.org/data/atl03): Level 2 geolocated photon data (time, lat, lon, height)\n",
    "        * ATL03 provides time, latitude, longitude, and ellipsoidal height for each photon event downlinked from ATLAS. Heights are corrected for several geophysical phenomena, such as effects of the atmosphere and solid earth deformation. \n",
    "        * [ATL03 Data Dictionary](https://nsidc.org/sites/nsidc.org/files/technical-references/ATL03-data-dictionary-v001.pdf)\n",
    "         * Resolution: 70 cm\n",
    "         * Format: point, HDF5   \n",
    "    * [ATL07](https://nsidc.org/data/atl07): Level 3a polar sea ice elevation\n",
    "     * ATL07 provides along-track surface height and type (e.g., snow-covered ice, open water) for the ice-covered seas of the northern and southern hemispheres. Sea surface and sea ice height are estimated for segments along each of the six ground tracks. \n",
    "     * [ATL07 Data Dictionary](https://nsidc.org/sites/nsidc.org/files/technical-references/ATL07-data-dictionary-v001.pdf)\n",
    "         * Resolution: \n",
    "         * Format: point, HDF5\n",
    "        \n",
    "        \n",
    "    * Why not ATL10? Thin ice, quality flags are lower, noise is higher. You might miss some info looking at coastal, thin ice areas if you look at ATL10 alone. 07 is a more basic product but you might get more out of it.\n",
    "\n",
    "### Tool references\n",
    "\n",
    "* ICESat-2 tools page\n",
    "* Mention Hackweek\n",
    "* Mention icepyx\n"
   ]
  },
  {
   "cell_type": "markdown",
   "metadata": {},
   "source": [
    "## MODIS Ice Surface Temperature \n",
    "\n",
    "Moderate-resolution Imaging Spectroradiometer (MODIS) ice surface temperature (IST) data are available in Level-2 swaths and Level-3 grids (for this tutorial we will be using the Level 2 swath data). MODIS data are available at 1 km resolution. IST retrievals occur for cloud free Arctic and Antarctic sea ice, for day and night. \n",
    "\n",
    "IST is the radiating temperature at the ice surface. The IST algorithm for MODIS use a split-window technique. MODIS bands 31 and 32 (brightness temperature) provide the ability for IST detection. \n",
    "\n",
    "### Data references\n",
    "\n",
    "* [MODIS](https://nsidc.org/data/modis/):  \n",
    "     * [MOD29](https://nsidc.org/data/mod29)/[MYD29](https://nsidc.org/data/myd29): Level 2 sea ice surface temperature\n",
    "         * Resolution: 1 km \n",
    "         * Format: swath, HDF-EOS 2\n",
    "        "
   ]
  },
  {
   "cell_type": "markdown",
   "metadata": {},
   "source": [
    "## AMSR-E/2 Unifed polar brightness temperature\n",
    "The AMSR-E/AMSR2 Unified Level-3 6.25 km product includes brightness temperatures at 89.0 GHz. Data are mapped to a polar stereographic grid at a spatial resolution of 6.25 km for the Northern and Southern Hemispheres. This product uses the Japan Aerospace Exploration Agency (JAXA) AMSR2 Level-1R input brightness temperatures that are calibrated (unified) across the JAXA AMSR-E and AMSR2 Level-1R products.\n",
    "\n",
    "### Data references\n",
    "\n",
    "* [AMSR2/U](https://nsidc.org/data/amsre_amsr2):\n",
    "\n",
    "     * [AU_SI6](https://nsidc.org/data/AU_SI6/): polar brightness temperatures\n",
    "         * Resolution: 6.25 km \n",
    "         * Format: gridded, HDF-EOS5\n",
    "         "
   ]
  },
  {
   "cell_type": "markdown",
   "metadata": {},
   "source": [
    "\n"
   ]
  },
  {
   "cell_type": "markdown",
   "metadata": {},
   "source": [
    "____\n",
    "## Example Application: How to use ICESat-2 elevation and MODIS IST's data to investigate the boundary between shore fast ice and drift ice in the East Siberian Sea.    \n",
    "\n",
    "### Some context...\n",
    " * **Fast ice**: *ice that is anchored (fastened) to the shore or ocean bottom, typically over shallow ocean shelves at continental margins; fast ice is defined by the fact that it does not move with the winds or currents.*\n",
    " \n",
    "     * **Characteristics**:\n",
    "  \n",
    "        * Attached to shoreline or pinned to ocean bottom\n",
    "        * Lower surface roughness compared to drift ice\n",
    "        * Graduated thickness from new ice to thicker 1st year ice \n",
    "        * Leads typically separate fast ice from drift ice      "
   ]
  },
  {
   "cell_type": "markdown",
   "metadata": {},
   "source": [
    "## Visualize MODIS and ICESat-2 data over time and area of interest\n",
    "\n",
    "We were looking for a clear day across the coast, fast ice, and on to drift ice  March 23, 2019 over the East Siberian Sea provided those ideal conditions. Below is imagery overlain with MODIS Terra IST over this region:\n",
    "\n",
    "![MODIS](https://wvs.earthdata.nasa.gov/api/v1/snapshot?REQUEST=GetSnapshot&TIME=2019-03-23T00:00:00Z&BBOX=-1405339.5995484726,1286629.9517633512,-110491.28755384358,2137686.811268989&CRS=EPSG:3413&LAYERS=MODIS_Terra_CorrectedReflectance_TrueColor,MODIS_Terra_Ice_Surface_Temp_Day,Reference_Features,Coastlines,Reference_Labels&WRAP=day,day,x,x,x&FORMAT=image/png&WIDTH=5058&HEIGHT=3324&OPACITIES=,1.00,,,&ts=1574194806685)\n",
    "NASA worldview imagery overlain with MODIS Terra IST over East Siberian Sea, March 23, 2019. Image credit: NASA Worldview\n",
    "\n",
    "How about ICESat-2 coverage?\n",
    "\n",
    "We'll use the [OpenAltimetry](https://openaltimetry.org/data/icesat2/?annoId=119&shareKey=31a6dd4555dc1b8ccbd84fce02a63d37) application to easily visualize the coverage over our area of interest, including an overlay of MODIS reflectance imagery to observe cloud cover. The link provides a previously created data annocation that automatically zooms into our study area. These annotations can be created and shared by all users of OpenAltimetry. "
   ]
  },
  {
   "cell_type": "markdown",
   "metadata": {},
   "source": [
    "<!-- ![Study Area](https://wvs.earthdata.nasa.gov/api/v1/snapshot?REQUEST=GetSnapshot&TIME=2019-03-23T00:00:00Z&BBOX=-1790464,1137664,-60928,2237440&CRS=EPSG:3413&LAYERS=MODIS_Terra_CorrectedReflectance_TrueColor,Coastlines,Reference_Labels&WRAP=day,x,x&FORMAT=image/png&WIDTH=1689&HEIGHT=1074&ts=1573233401157.png) -->"
   ]
  },
  {
   "cell_type": "code",
   "execution_count": null,
   "metadata": {},
   "outputs": [],
   "source": []
  }
 ],
 "metadata": {
  "kernelspec": {
   "display_name": "Python 3",
   "language": "python",
   "name": "python3"
  },
  "language_info": {
   "codemirror_mode": {
    "name": "ipython",
    "version": 3
   },
   "file_extension": ".py",
   "mimetype": "text/x-python",
   "name": "python",
   "nbconvert_exporter": "python",
   "pygments_lexer": "ipython3",
   "version": "3.7.3"
  }
 },
 "nbformat": 4,
 "nbformat_minor": 4
}
