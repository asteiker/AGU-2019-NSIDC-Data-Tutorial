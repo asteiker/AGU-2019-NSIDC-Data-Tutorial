{
 "cells": [
  {
   "cell_type": "markdown",
   "metadata": {},
   "source": [
    "# Getting the most out of NSIDC DAAC data: Discovering, Accessing, and Harmonizing Arctic remote sensing data\n",
    "\n",
    "Here are the steps you will learn in this tutorial, which will be broken out into several Python Jupyter Notebooks:\n",
    "\n",
    "Introduction\n",
    "  \n",
    "   * Learn the basics of Jupyter Lab and Jupyter Notebook\n",
    "   * Introduce case study\n",
    "   * Explore NSIDC data resources\n",
    "   * Visualize time and area of interest using OpenAltimetry \n",
    "   \n",
    "Customize and Access NSIDC DAAC Data   \n",
    "   \n",
    "   * Search for data programmatically by time and area of interest.\n",
    "   * Determine subsetting and reformatting capabilities for our data of interest.\n",
    "   * Access and customize data using NSIDC's API service.\n",
    "\n",
    "Analyze \n",
    "\n",
    "   * Filter ICESat-2 data by quality flag \n",
    "   * Extracting gridded data along ICESat-2 tracks using xarray\n",
    "   * Plot data with MODIS true color WMS endpoint. \n",
    "   * Cartopy is quite good for this.  Basemap is an alternative. OpenAltimetry plotting (3d plotly)\n",
    "\n"
   ]
  },
  {
   "cell_type": "markdown",
   "metadata": {},
   "source": [
    "### Basics of Jupyter Lab and Jupyter Notebook"
   ]
  },
  {
   "cell_type": "markdown",
   "metadata": {},
   "source": [
    "Before we delve into our Arctic sea ice data exploration, let's go over the basics of how to interact with these Jupyter Notebooks and the Jupyter Lab interface, as well as some background on our Jupyter Hub environment."
   ]
  },
  {
   "cell_type": "code",
   "execution_count": null,
   "metadata": {},
   "outputs": [],
   "source": [
    "# Hub\n",
    "# Notebook vs Lab\n",
    "# Execute a notebook\n",
    "# Execute a cell\n",
    "# Bulk comment, uncomment "
   ]
  },
  {
   "cell_type": "markdown",
   "metadata": {},
   "source": [
    "## Fast ice over the East Siberian Sea \n",
    "\n",
    "For this tutorial, we're interested in whether or not elevation data from the ICESat-2 mission can help us determine fast ice characteristics over the East Siberian Sea in conjunction with reflectance data."
   ]
  },
  {
   "cell_type": "markdown",
   "metadata": {},
   "source": [
    "There are a few data sets provided by NSIDC and LP DAAC that can help us with our analysis: \n",
    "\n",
    "ATL03\n",
    "ATL07\n",
    "MOD29\n",
    "AMSR2 SI6\n",
    "\n",
    "![](https://nsidc.org/sites/nsidc.org/files/images/atlas-beam-pattern.png)\n",
    "\n",
    "See the ICESat-2 Data Sets page for a list of all ICESat-2 data set titles and IDs. \n",
    "\n",
    "From the ICESat-2 Data Sets page, you can find a link to each data set home page: </br>\n",
    "ATL03: https://nsidc.org/data/atl03 </br> ATL07: https://nsidc.org/data/atl07\n",
    "\n",
    "From that home page, several resources are available, including an online user guide (within the User Guide tab of the landing page): </br>\n",
    "ATL03: https://nsidc.org/data/atl03?qt-data_set_tabs=3#qt-data_set_tabs </br> ATL07: https://nsidc.org/data/atl07?qt-data_set_tabs=3#qt-data_set_tabs\n",
    "\n",
    "As well as a data dictionary with every data set variable described in detail: </br>\n",
    "ATL03: https://nsidc.org/sites/nsidc.org/files/technical-references/ATL03-data-dictionary-v001.pdf </br> ATL07: https://nsidc.org/sites/nsidc.org/files/technical-references/ATL07-data-dictionary-v001.pdf"
   ]
  },
  {
   "cell_type": "markdown",
   "metadata": {},
   "source": [
    "### Visualize time and area of interest\n",
    "\n",
    "We're looking for a clear day across the coast, fast ice, and on to drift ice. \n",
    "\n",
    "Because we're mainly interested in ICESat-2 coverage, we'll use the OpenAltimetry application to easily visualize the coverage over our area of interest, as well as overlay MODIS reflectance imagery to observe cloud cover. \n",
    "\n",
    "\n",
    "OpenAltimetry\n",
    "\n",
    "https://openaltimetry.org/data/icesat2/?annoId=119&shareKey=31a6dd4555dc1b8ccbd84fce02a63d37\n",
    "\n",
    "\n"
   ]
  },
  {
   "cell_type": "code",
   "execution_count": null,
   "metadata": {},
   "outputs": [],
   "source": []
  },
  {
   "cell_type": "code",
   "execution_count": null,
   "metadata": {},
   "outputs": [],
   "source": []
  },
  {
   "cell_type": "code",
   "execution_count": null,
   "metadata": {},
   "outputs": [],
   "source": []
  }
 ],
 "metadata": {
  "kernelspec": {
   "display_name": "Python 3",
   "language": "python",
   "name": "python3"
  },
  "language_info": {
   "codemirror_mode": {
    "name": "ipython",
    "version": 3
   },
   "file_extension": ".py",
   "mimetype": "text/x-python",
   "name": "python",
   "nbconvert_exporter": "python",
   "pygments_lexer": "ipython3",
   "version": "3.7.3"
  }
 },
 "nbformat": 4,
 "nbformat_minor": 4
}
