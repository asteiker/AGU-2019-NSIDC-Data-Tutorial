{
 "cells": [
  {
   "cell_type": "code",
   "execution_count": null,
   "metadata": {},
   "outputs": [],
   "source": [
    "import requests\n",
    "import getpass\n",
    "import socket\n",
    "import json\n",
    "import zipfile\n",
    "import io\n",
    "import math\n",
    "import os\n",
    "import shutil\n",
    "import pprint\n",
    "import time\n",
    "import geopandas as gpd\n",
    "import matplotlib.pyplot as plt\n",
    "import cartopy.crs as ccrs\n",
    "import fiona\n",
    "import h5py\n",
    "import re\n",
    "import import_ipynb\n",
    "from ipynb.fs.full.Functions import *\n",
    "# To read KML files with geopandas, we will need to enable KML support in fiona (disabled by default)\n",
    "fiona.drvsupport.supported_drivers['LIBKML'] = 'rw'\n",
    "from shapely.geometry import Polygon, mapping\n",
    "from shapely.geometry.polygon import orient\n",
    "from statistics import mean\n",
    "from requests.auth import HTTPBasicAuth"
   ]
  },
  {
   "cell_type": "code",
   "execution_count": null,
   "metadata": {},
   "outputs": [],
   "source": [
    "def data_search ():\n",
    "    # Get json response from CMR collection metadata\n",
    "    short_name = input('Input data set short name here (example: ATL03): ')\n",
    "    params = {\n",
    "        'short_name': short_name\n",
    "    }\n",
    "    cmr_collections_url = 'https://cmr.earthdata.nasa.gov/search/collections.json'\n",
    "    response = requests.get(cmr_collections_url, params=params)\n",
    "    results = json.loads(response.content)\n",
    "    # Find most recent version number\n",
    "    versions = [el['version_id'] for el in results['feed']['entry']]\n",
    "    latest_version = max(versions)\n",
    "    \n",
    "    # Query number of granules (paging over results)\n",
    "    granule_search_url = 'https://cmr.earthdata.nasa.gov/search/granules'\n",
    "    params = {\n",
    "        'short_name': short_name,\n",
    "        'version': latest_version,\n",
    "        'bounding_box': bounding_box,\n",
    "        'temporal': temporal,\n",
    "        'page_size': 100,\n",
    "        'page_num': 1,\n",
    "    }\n",
    "    granules = []\n",
    "    headers={'Accept': 'application/json'}\n",
    "    while True:\n",
    "        response = requests.get(granule_search_url, params=params, headers=headers)\n",
    "        results = json.loads(response.content)\n",
    "\n",
    "        if len(results['feed']['entry']) == 0:\n",
    "            # Out of results, so break out of loop\n",
    "            break\n",
    "\n",
    "        # Collect results and increment page_num\n",
    "        granules.extend(results['feed']['entry'])\n",
    "        params['page_num'] += 1\n",
    "\n",
    "    print('There are', len(granules), 'granules of', short_name, 'version', latest_version, 'over my area and time of interest.')\n",
    "    granule_sizes = [float(granule['granule_size']) for granule in granules]\n",
    "    print(f'The average size of each granule is {mean(granule_sizes):.2f} MB and the total size of all {len(granules)} granules is {sum(granule_sizes):.2f} MB')\n",
    "    return; "
   ]
  },
  {
   "cell_type": "code",
   "execution_count": null,
   "metadata": {},
   "outputs": [],
   "source": []
  }
 ],
 "metadata": {
  "kernelspec": {
   "display_name": "Python 3",
   "language": "python",
   "name": "python3"
  },
  "language_info": {
   "codemirror_mode": {
    "name": "ipython",
    "version": 3
   },
   "file_extension": ".py",
   "mimetype": "text/x-python",
   "name": "python",
   "nbconvert_exporter": "python",
   "pygments_lexer": "ipython3",
   "version": "3.7.3"
  }
 },
 "nbformat": 4,
 "nbformat_minor": 4
}
