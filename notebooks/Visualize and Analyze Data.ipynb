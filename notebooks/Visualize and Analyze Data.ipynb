{
 "cells": [
  {
   "cell_type": "markdown",
   "metadata": {},
   "source": [
    "# Visualize and Analyze Data\n",
    "\n",
    "This notebook will explore the data we downloaded in the `Customize and Access Data` notebook by performing the following steps:\n",
    "\n",
    "1. Read in ATL07 data and plot against MODIS Corrected Reflectance (true color) imagery\n",
    "2. Overlay ATL07 data over MODIS IST\n",
    "3. Extract MODIS IST values along ICESat-2 heights\n",
    "4. Extract ICESat-2 heights along MODIS IST values.\n",
    "5. Plot MODIS IST and ICESat-2 heights\n",
    "   "
   ]
  },
  {
   "cell_type": "markdown",
   "metadata": {},
   "source": [
    "### Import packages"
   ]
  },
  {
   "cell_type": "markdown",
   "metadata": {},
   "source": [
    "We'll only have to do these manual installs for the dry-run. Luis will get these installed prior to AGU!"
   ]
  },
  {
   "cell_type": "code",
   "execution_count": null,
   "metadata": {},
   "outputs": [],
   "source": [
    "# Need to install `plotly` on top of Pangeo\n",
    "!conda install -c plotly plotly=4.3.0 -y\n",
    "\n",
    "# Need to instal `awscli` on top of Pangeo \n",
    "!conda install awscli -y\n",
    "!conda list | grep pyproj\n",
    "\n",
    "# Need to upgrade `pyproj` on this Pangeo environment. Had some issues getting this to install in our environment but this worked:\n",
    "import sys\n",
    "!{sys.executable} -m pip install pyproj==2.4.1"
   ]
  },
  {
   "cell_type": "code",
   "execution_count": null,
   "metadata": {},
   "outputs": [],
   "source": [
    "#%run functions.py"
   ]
  },
  {
   "cell_type": "code",
   "execution_count": null,
   "metadata": {},
   "outputs": [],
   "source": [
    "from collections import defaultdict\n",
    "\n",
    "from osgeo import gdal, osr\n",
    "import math\n",
    "import h5py\n",
    "import xarray as xr\n",
    "import pyproj\n",
    "import pandas as pd\n",
    "from shapely.geometry import Point,Polygon\n",
    "\n",
    "import pyresample as prs\n",
    "import cartopy.crs as ccrs\n",
    "from matplotlib import pyplot as plt\n",
    "import hvplot.pandas  # Adds the 'hvplot' method to pandas objects\n",
    "import hvplot.xarray  # Adds the 'hvplot' method to xarray objects\n",
    "#import plotly.graph_objects as go\n",
    "#from plotly.offline import iplot\n",
    "import rasterio\n",
    "import functions\n",
    "\n",
    "# from pathlib import Path\n",
    "import numpy as np\n",
    "#import geopandas as gpd\n",
    "from datetime import datetime, timedelta\n",
    "from holoviews.operation.datashader import datashade\n",
    "import datashader.geo\n",
    "\n",
    "%matplotlib inline"
   ]
  },
  {
   "cell_type": "markdown",
   "metadata": {},
   "source": [
    "### Load data from Amazon s3 bucket\n",
    "\n",
    "We'll only have to do this manual s3 loading for the dry-run. Luis will get the outputs copied to the environment prior to AGU!"
   ]
  },
  {
   "cell_type": "code",
   "execution_count": null,
   "metadata": {},
   "outputs": [],
   "source": [
    "!aws --no-sign-request --region=us-west-2 s3 sync s3://nsidc-agu-tutorial-data/ Outputs"
   ]
  },
  {
   "cell_type": "markdown",
   "metadata": {},
   "source": [
    "## Read in our data"
   ]
  },
  {
   "cell_type": "markdown",
   "metadata": {},
   "source": [
    "We will be using a few different packages to bring our data in...\n",
    "\n",
    "* [Pandas DataFrame](https://pandas.pydata.org/pandas-docs/stable/getting_started/overview.html)\n",
    "    * Pandas is built on top of NumPy and provides easy to work with data structures. The pandas dataframe is a 2-D tabular data structure with labeled axes. \n",
    "* [GeoPandas GeoDataFrame](http://geopandas.org/reference/geopandas.GeoDataFrame.html) \n",
    "    * A GeoDataFrame object is a pandas.DataFrame that has a column with geospatial capabilities.\n",
    "* [Gdal](https://pypi.org/project/GDAL/)\n",
    "    * Tools for programming and manipulating the Geospatial Data Abstraction Library (GDAL).\n",
    "* [Rasterio](https://rasterio.readthedocs.io/en/stable/index.html)\n",
    "    * Rasterio reads and writes raster formats including GeoTIFF.\n",
    "* [Xarray](http://xarray.pydata.org/en/stable/index.html)\n",
    "    * Inspired by Pandas, xarray introduces labels in the form of dimensions, coordinates and attributes on top of raw NumPy-like arrays, which allows for a more intuitive, more concise, and less error-prone developer experience. [GOOD FOR MULTIDIMENSIONAL DATA]"
   ]
  },
  {
   "cell_type": "markdown",
   "metadata": {},
   "source": [
    "### Load ATL07 granules into dataframes\n",
    "\n",
    "We will start by defining variables to extract and combine as a single dataframe:"
   ]
  },
  {
   "cell_type": "code",
   "execution_count": null,
   "metadata": {},
   "outputs": [],
   "source": [
    "VARIABLES = {\n",
    "    'ATL07': [\n",
    "        '/gt1l/sea_ice_segments/delta_time',\n",
    "        '/gt1l/sea_ice_segments/latitude',\n",
    "        '/gt1l/sea_ice_segments/longitude',\n",
    "        '/gt1l/sea_ice_segments/heights/height_segment_confidence',\n",
    "        '/gt1l/sea_ice_segments/heights/height_segment_height',\n",
    "        '/gt1l/sea_ice_segments/heights/height_segment_quality',\n",
    "        '/gt1l/sea_ice_segments/heights/height_segment_surface_error_est',\n",
    "        '/gt1l/sea_ice_segments/heights/height_segment_length_seg',\n",
    "        '/gt2l/sea_ice_segments/delta_time',\n",
    "        '/gt2l/sea_ice_segments/latitude',\n",
    "        '/gt2l/sea_ice_segments/longitude',\n",
    "        '/gt2l/sea_ice_segments/heights/height_segment_confidence',\n",
    "        '/gt2l/sea_ice_segments/heights/height_segment_height',\n",
    "        '/gt2l/sea_ice_segments/heights/height_segment_quality',\n",
    "        '/gt2l/sea_ice_segments/heights/height_segment_surface_error_est',\n",
    "        '/gt2l/sea_ice_segments/heights/height_segment_length_seg',\n",
    "        '/gt3l/sea_ice_segments/delta_time',\n",
    "        '/gt3l/sea_ice_segments/latitude',\n",
    "        '/gt3l/sea_ice_segments/longitude',\n",
    "        '/gt3l/sea_ice_segments/heights/height_segment_confidence',\n",
    "        '/gt3l/sea_ice_segments/heights/height_segment_height',\n",
    "        '/gt3l/sea_ice_segments/heights/height_segment_quality',\n",
    "        '/gt3l/sea_ice_segments/heights/height_segment_surface_error_est',\n",
    "        '/gt3l/sea_ice_segments/heights/height_segment_length_seg'\n",
    "    ]\n",
    "}"
   ]
  },
  {
   "cell_type": "markdown",
   "metadata": {},
   "source": [
    "#### We will use the `load_icesat2_as_dataframe` function from our functions module to load points from our ATL07 files: [EXPLAIN VALUES OF EACH VARIAIBLE - 150 PHOTONS PER SEGMENT]"
   ]
  },
  {
   "cell_type": "code",
   "execution_count": null,
   "metadata": {},
   "outputs": [],
   "source": [
    "# Load ATL07 granules and combine into single ATL07 dataframe\n",
    "\n",
    "df_07_101341 = functions.load_icesat2_as_dataframe('./Outputs/processed_ATL07-01_20190323101341_12980201_002_01.h5', VARIABLES)\n",
    "df_07_211343 = functions.load_icesat2_as_dataframe('./Outputs/processed_ATL07-01_20190323211343_13050201_002_01.h5', VARIABLES)\n",
    "\n",
    "atl07_frames = [df_07_101341, df_07_211343]\n",
    "df_atl07 = pd.concat(atl07_frames,ignore_index=True)\n",
    "\n",
    "df_atl07"
   ]
  },
  {
   "cell_type": "markdown",
   "metadata": {},
   "source": [
    "#### We will use the `convert_to_gdf` function from our functions module to convert our DataFrame with 'longitude' and 'latitude' columns to a GeoDataFrame:"
   ]
  },
  {
   "cell_type": "code",
   "execution_count": null,
   "metadata": {},
   "outputs": [],
   "source": [
    "gdf_07_101341 = functions.convert_to_gdf(df_07_101341)\n",
    "gdf_07_211343 = functions.convert_to_gdf(df_07_211343)\n",
    "gdf_atl07 = functions.convert_to_gdf(df_atl07)\n",
    "\n",
    "gdf_atl07"
   ]
  },
  {
   "cell_type": "markdown",
   "metadata": {},
   "source": [
    "### Load MODIS Ice Surface Temperature file\n",
    "\n",
    "There were 13 granules returned over our time and area of interest. We can use Earthdata Search to easily visualize the coverage of each granule:\n",
    "[MODIS Earthdata Search link](https://search.earthdata.nasa.gov/search/granules?p=C1000001160-NSIDC_ECS&q=mod29&sb=140%2C72%2C153%2C80&m=80.14349326047419!-42.27686414753069!0!0!0!0%2C2&qt=2019-03-23T00%3A00%3A00.000Z%2C2019-03-23T23%3A59%3A59.999Z&tl=1557787959!4!)\n",
    "\n",
    "Let's choose a single MODIS granule to be used in our analysis below. \n",
    "\n",
    "Out of the 13 returned, these all have full coverage over our study area:\n",
    "\n",
    "* MOD29.A2019082.0810.006.2019082191746.hdf\n",
    "* MOD29.A2019082.0630.006.2019082191633.hdf\n",
    "* MOD29.A2019082.0455.006.2019082132032.hdf\n",
    "* MOD29.A2019082.0945.006.2019082191513.hdf\n",
    "\n",
    "And after viewing the browse images, this looks to have the best data coverage:\n",
    "\n",
    "* MOD29.A2019082.0140.006.2019082132036.hdf\n"
   ]
  },
  {
   "cell_type": "markdown",
   "metadata": {},
   "source": [
    "#### Now let's load our MOD29 file into xarray:"
   ]
  },
  {
   "cell_type": "code",
   "execution_count": null,
   "metadata": {},
   "outputs": [],
   "source": [
    "# Define local filepath and open as xarray\n",
    "\n",
    "filepath = './Outputs/MOD29_A2019082_0140_006_2019082132036_HEGOUT.hdf'\n",
    "\n",
    "mod29 = xr.open_dataset(filepath)\n",
    "mod29"
   ]
  },
  {
   "cell_type": "markdown",
   "metadata": {},
   "source": [
    "### Load MODIS Corrected Reflectance (true color) image and MODIS IST image\n",
    "\n",
    "GeoTIFFs were created using the NASA Worldview snapshot feature: </n> \n",
    "\n",
    "MODIS Corrected Reflectance: https://go.nasa.gov/2OjfDSa </n>\n",
    "\n",
    "MODIS IST: https://go.nasa.gov/34fBnp8\n",
    "\n",
    "We'll read in the projection information below to help inform our plotting projection parameters in the next step:"
   ]
  },
  {
   "cell_type": "code",
   "execution_count": null,
   "metadata": {},
   "outputs": [],
   "source": [
    "# Read geotiff images from gdal \n",
    "\n",
    "gdal.UseExceptions()\n",
    "\n",
    "fname_cr = './Outputs/snapshot-2019-03-23T00_00_00Z_polar.tiff'\n",
    "fname_ist = './Outputs/snapshot-2019-03-23T00_00_00Z-IST.tiff'\n",
    "\n",
    "ds_cr = gdal.Open(fname_cr)\n",
    "ds_ist = gdal.Open(fname_ist)\n",
    "#data = ds.ReadAsArray()\n",
    "#gt = ds.GetGeoTransform()\n",
    "proj_cr = ds_cr.GetProjection()\n",
    "proj_ist = ds_ist.GetProjection()\n",
    "\n",
    "inproj = osr.SpatialReference()\n",
    "inproj.ImportFromWkt(proj_cr)\n",
    "\n",
    "#Print proj4 strings for each GeoTIFF\n",
    "proj4_cr = inproj.ExportToProj4()\n",
    "print('MODIS True Color proj4:', proj4_cr)\n",
    "inproj.ImportFromWkt(proj_ist)\n",
    "proj4_ist = inproj.ExportToProj4()\n",
    "print('MODIS IST proj4:',proj4_cr)"
   ]
  },
  {
   "cell_type": "markdown",
   "metadata": {},
   "source": [
    "## Visualize ICESat-2 height values \n",
    "\n",
    "We can visualize the ICESat-2 track locations and height values overlayed with MODIS Corrected Reflectance and MODIS Ice Surface Temperature. We should see higher ATL07 heights along fast ice, with lower heights over thin ice and then increasing height over drift ice.  [YOU WILL GET A MESSAGE IF YOU FIRST DOWNLOADED THE COASTLINE] [add ist values and crop image] [CHANGE WIDTH / HEIGHTS]"
   ]
  },
  {
   "cell_type": "code",
   "execution_count": null,
   "metadata": {},
   "outputs": [],
   "source": [
    "# Read in data using rasterio\n",
    "\n",
    "fname_cr = './Outputs/snapshot-2019-03-23T00_00_00Z_polar.tiff'\n",
    "fname_ist = './Outputs/snapshot-2019-03-23T00_00_00Z-IST.tiff'\n",
    "source_ist = rasterio.open(fname_ist, 'r')\n",
    "source_cr = rasterio.open(fname_cr, 'r')\n",
    "bounds_cr = (source_cr.bounds.left, source_cr.bounds.right, \\\n",
    "          source_cr.bounds.bottom, source_cr.bounds.top)\n",
    "bounds_ist = (source_ist.bounds.left, source_ist.bounds.right, \\\n",
    "          source_ist.bounds.bottom, source_ist.bounds.top)"
   ]
  },
  {
   "cell_type": "code",
   "execution_count": null,
   "metadata": {},
   "outputs": [],
   "source": [
    "# Plot ICESat-2 over MODIS Corrected Reflectance\n",
    "fig = plt.figure(figsize=(8, 10))\n",
    "img = plt.imread(fname_cr)\n",
    "plot_proj = ccrs.Stereographic(central_longitude=-45, central_latitude=90, \n",
    "                               false_easting=0, false_northing=0,\n",
    "                               true_scale_latitude=70)\n",
    "ax = plt.axes(projection=plot_proj)\n",
    "plt.title('ATL07 height values\\n'\n",
    "          '03/23/2019')\n",
    "\n",
    "# set a margin around the data\n",
    "ax.set_xmargin(0.05)\n",
    "ax.set_ymargin(0.10)\n",
    "\n",
    "# add the image. Because this image was a tiff, the \"origin\" of the image is in the upper left corner\n",
    "ax.imshow(img, origin='upper', extent=bounds_cr, transform=plot_proj)\n",
    "ax.coastlines(resolution='50m', color='black', linewidth=1)\n",
    "              \n",
    "heights = ax.scatter(gdf_atl07.longitude, gdf_atl07.latitude, transform=ccrs.Geodetic(),\n",
    "          c=gdf_atl07.height_segment_height,\n",
    "          cmap='Reds', alpha=0.5) \n",
    "\n",
    "cbar = fig.colorbar(heights, ax=ax)\n",
    "cbar.set_label('Height (m)')\n",
    "\n",
    "\n",
    "# Plot ICESat-2 over MODIS IST\n",
    "fig = plt.figure(figsize=(8, 10))\n",
    "img = plt.imread(fname_ist)\n",
    "plot_proj = ccrs.Stereographic(central_longitude=-45, central_latitude=90, \n",
    "                               false_easting=0, false_northing=0,\n",
    "                               true_scale_latitude=70)\n",
    "\n",
    "ax = plt.axes(projection=plot_proj)\n",
    "plt.title('ATL07 height values\\n'\n",
    "          '03/23/2019')\n",
    "\n",
    "# set a margin around the data\n",
    "ax.set_xmargin(0.05)\n",
    "ax.set_ymargin(0.10)\n",
    "\n",
    "# add the image. Because this image was a tiff, the \"origin\" of the image is in the upper left corner\n",
    "ax.imshow(img, origin='upper', extent=bounds_ist, transform=plot_proj)\n",
    "ax.coastlines(resolution='50m', color='black', linewidth=1)\n",
    "\n",
    "heights = ax.scatter(gdf_atl07.longitude, gdf_atl07.latitude, transform=ccrs.Geodetic(),\n",
    "          c=gdf_atl07.height_segment_height,\n",
    "          cmap='Reds', alpha=0.5)              \n",
    "\n",
    "cbar = fig.colorbar(heights, ax=ax)\n",
    "cbar.set_label('Height (m)')\n",
    "plt.show()\n"
   ]
  },
  {
   "cell_type": "markdown",
   "metadata": {},
   "source": [
    "#### How does this look in 3d?\n",
    "\n",
    "Coming soon...\n",
    "\n",
    "... maybe not necessary...\n"
   ]
  },
  {
   "cell_type": "code",
   "execution_count": null,
   "metadata": {
    "jupyter": {
     "source_hidden": true
    }
   },
   "outputs": [],
   "source": [
    "# From OpenAltimetry notebook:\n",
    "\n",
    "# # Paste the OpenAltimetry selection parameters here\n",
    "# OA_REFERENCE_URL = 'minx=72.0476&miny=36.6165&maxx=72.0505&maxy=36.6214&date=2019-05-02&trackId=516'\n",
    "# # We populate a list with the photon data using the OpenAltimetry API, no HDF! \n",
    "# OA_URL = 'https://openaltimetry.org/data/icesat2/getPhotonData?client=jupyter&' + OA_REFERENCE_URL\n",
    "\n",
    "# OA_PHOTONS = ['Noise', 'Low', 'Medium', 'High']\n",
    "# # OA_PLOTTED_BEAMS = [1,2,3,4,5,6] you can select up to 6 beams for each ground track.\n",
    "# # Some beams may not be usable due cloud covering or QC issues.\n",
    "# OA_BEAMS = [3,4]\n",
    "\n",
    "# df_beams = []\n",
    "# oa_plots = []\n",
    "\n",
    "# # This function will request the 6 tracks using OpenAltimetry's API\n",
    "# def getPhotonData():\n",
    "#     series = []\n",
    "#     beam_index = 0;\n",
    "#     for beam in OA_BEAMS:\n",
    "#         beam_index += 1\n",
    "#         b_url = OA_URL + '&beam=' + str(beam)\n",
    "#         print(b_url)\n",
    "#         print('Requesting Beam {}'.format(beam_index))\n",
    "#         r = requests.get(b_url)\n",
    "#         data = r.json()\n",
    "#         series.append(data)\n",
    "#     print ('Data requests completed you can now plot it on the next cell...')\n",
    "#     return series\n",
    "\n",
    "        \n",
    "# photon_cloud = getPhotonData()\n",
    "\n",
    "# track_index = 0\n",
    "# for track in photon_cloud:\n",
    "#     track_index +=1\n",
    "#     for photons in track['series']:\n",
    "#         if any(word in photons['name'] for word in OA_PHOTONS):\n",
    "#             series = []\n",
    "#             for p in photons['data']:\n",
    "#                 series.append({\n",
    "#                     'lat': p[0],\n",
    "#                     'lon': p[2],\n",
    "#                     'h': p[1]\n",
    "#                 })\n",
    "#             if (len(series) > 0):\n",
    "#                 df = pd.DataFrame.from_dict(series)\n",
    "#                 df.name = 'Beam ' + str(track_index) + ' ' + photons['name']\n",
    "#                 df_beams.append(df) \n",
    "\n",
    "# for df in df_beams:\n",
    "#     oa_plots.append(go.Scatter3d(name=df.name, x=df['lat'], y=df['lon'], z=df['h'], mode='markers',\n",
    "#                                     marker=dict(\n",
    "#                                         size=1,\n",
    "#                                         color=df['h'],\n",
    "#                                         colorscale='Viridis',   # choose a colorscale\n",
    "#                                         opacity=0.8\n",
    "#                                     )\n",
    "#                                 )\n",
    "#                    )\n",
    "    \n",
    "    \n",
    "# layout = go.Layout(\n",
    "#     width=900,\n",
    "#     height=600,\n",
    "#     scene = dict(aspectmode = 'manual', aspectratio =dict(x=1, y=1, z=0.5),\n",
    "#                  xaxis=dict(title='Latitude'), yaxis=dict(title='Longitude'), zaxis=dict(title='Elevation (m)'))\n",
    "# )\n",
    "\n",
    "# fig = go.Figure(data=oa_plots, layout=layout)  \n",
    "\n",
    "# iplot(fig)\n",
    "\n",
    "\n",
    "# # Now we can get a histogram of the beam's elevation and their description\n",
    "# for df in df_beams:\n",
    "#     print(df.describe())\n",
    "#     df.hist('h', bins=128)\n",
    "    "
   ]
  },
  {
   "cell_type": "markdown",
   "metadata": {},
   "source": [
    "### Overlay ATL07 values over MODIS Ice Surface Temperature\n",
    "\n"
   ]
  },
  {
   "cell_type": "markdown",
   "metadata": {},
   "source": [
    "Before we plot the ATL07 heights over MODIS IST, we need to convert the Ice_Surface_Temperature values to kelvins. According to the [MOD29 User Guide](https://nsidc.org/data/mod29#title11) the Ice_Surface_Temperature (IST) values are stored as calibrated data. To convert to kelvins, use scale_factor = 0.01 and add_offset = 0.0 in the following equation:\n",
    "\n",
    "IST = scale_factor × (calibrated data - add_offset)\n",
    "\n",
    "The valid range for ISTs is 210 K to 313.20 K.\n",
    "\n",
    "Let's apply this conversion to our xarray:"
   ]
  },
  {
   "cell_type": "code",
   "execution_count": null,
   "metadata": {},
   "outputs": [],
   "source": [
    "# Apply calibrated data to kelvin conversion\n",
    "\n",
    "mod29['Ice_Surface_Temperature'] = mod29['Ice_Surface_Temperature']*(0.01)"
   ]
  },
  {
   "cell_type": "markdown",
   "metadata": {},
   "source": [
    "Plot MOD29 using Holoviews\n",
    "\n",
    "(Provide quick summary of Holoviews)"
   ]
  },
  {
   "cell_type": "code",
   "execution_count": null,
   "metadata": {},
   "outputs": [],
   "source": [
    "# title = 'MOD29 Ice Surface Temperature (K)'\n",
    "rasterized_ist = mod29.Ice_Surface_Temperature.hvplot.image(rasterize=True, \n",
    "                                         cmap='viridis', \n",
    "                                         height=400, width=800).redim.range(Ice_Surface_Temperature=(240,270))\n",
    "rasterized_ist.options(cmap='viridis')\n",
    "\n",
    "# atl07_points = datashade(df_atl07.hvplot.points(x='longitude', y='latitude', c='mag', cmap=mag_cmap))\n",
    "# ist_and_height = (rasterized_ist * atl07_points).relabel(title)\n",
    "# ist_and_height\n",
    "\n",
    "#Original plot from Bruce\n",
    "# img = mod29.Ice_Surface_Temperature.hvplot.image().redim.range(Ice_Surface_Temperature=(240, 270))\n",
    "# img.options(cmap='viridis')\n",
    "\n",
    "\n",
    "#Incorporate ICESat-2 values\n",
    "# datashade(df_atl07.hvplot.points(x='longitude', y='latitude'))\n",
    "# x, y = datashader.geo.lnglat_to_meters(df_atl07.longitude, df_atl07.latitude)"
   ]
  },
  {
   "cell_type": "markdown",
   "metadata": {},
   "source": [
    "## Extract MODIS IST values along the ICESat-2 tracks\n",
    "\n",
    "Now that we've visually inspected height and IST values, let's do some analysis. We will now extract MODIS IST values at each ATL07 point.\n"
   ]
  },
  {
   "cell_type": "markdown",
   "metadata": {},
   "source": [
    "### First we'll convert ATL07 'delta_time' to datetime values"
   ]
  },
  {
   "cell_type": "code",
   "execution_count": null,
   "metadata": {},
   "outputs": [],
   "source": [
    "EPOCH = datetime(2018, 1, 1, 0, 0, 0)\n",
    "\n",
    "def convert_delta_time(delta_time):\n",
    "    '''\n",
    "    Convert ICESat-2 'delta_time' parameter to UTC datetime\n",
    "    '''\n",
    "    utc_datetime = EPOCH + timedelta(seconds=delta_time)\n",
    "\n",
    "    return utc_datetime"
   ]
  },
  {
   "cell_type": "code",
   "execution_count": null,
   "metadata": {},
   "outputs": [],
   "source": [
    "# Add datetime values to each geopandas dataframe\n",
    "\n",
    "gdf_07_101341['utc_datetime'] = gdf_07_101341['delta_time'].apply(convert_delta_time)\n",
    "gdf_07_101341 = gdf_07_101341.drop(columns='delta_time')\n",
    "\n",
    "gdf_07_211343['utc_datetime'] = gdf_07_211343['delta_time'].apply(convert_delta_time)\n",
    "gdf_07_211343 = gdf_07_211343.drop(columns='delta_time')\n",
    "\n",
    "gdf_atl07['utc_datetime'] = gdf_atl07['delta_time'].apply(convert_delta_time)\n",
    "gdf_atl07 = gdf_atl07.drop(columns='delta_time')\n",
    "\n",
    "gdf_atl07"
   ]
  },
  {
   "cell_type": "markdown",
   "metadata": {},
   "source": [
    "### Compute along track distance\n",
    "\n",
    "The `height_segment_length_seg` variable provides the length of each segment. We need these values to be additive so that we can plot against distance.  "
   ]
  },
  {
   "cell_type": "code",
   "execution_count": null,
   "metadata": {},
   "outputs": [],
   "source": [
    "add_dist = [gdf_07_101341.height_segment_length_seg.values[0]]\n",
    "for i in range(1, len(gdf_07_101341.index)):\n",
    "    add_dist.append(add_dist[i-1]+gdf_07_101341.height_segment_length_seg.values[i])\n",
    "gdf_07_101341['add_dist'] = add_dist\n",
    "\n",
    "add_dist = [gdf_07_211343.height_segment_length_seg.values[0]]\n",
    "for i in range(1, len(gdf_07_211343.index)):\n",
    "    add_dist.append(add_dist[i-1]+gdf_07_211343.height_segment_length_seg.values[i])\n",
    "gdf_07_211343['add_dist'] = add_dist\n",
    "gdf_07_211343"
   ]
  },
  {
   "cell_type": "markdown",
   "metadata": {},
   "source": [
    "### Convert back to pandas dataframe\n",
    "\n",
    "Have both for good measure (different plotting api's mainly)"
   ]
  },
  {
   "cell_type": "code",
   "execution_count": null,
   "metadata": {},
   "outputs": [],
   "source": [
    "df_07_101341 = pd.DataFrame(gdf_07_101341.drop(columns='geometry'))\n",
    "df_07_211343 = pd.DataFrame(gdf_07_211343.drop(columns='geometry'))"
   ]
  },
  {
   "cell_type": "markdown",
   "metadata": {},
   "source": [
    "### Interpolating MOD29 onto ICESat-2 points\n",
    "\n",
    "To easily interpolate MOD29 to ICESat-2 points, we can use the `pyresample` library. The `radius_of_influence` parameter determines maximum radius to look for nearest neighbor interpolation."
   ]
  },
  {
   "cell_type": "code",
   "execution_count": null,
   "metadata": {},
   "outputs": [],
   "source": [
    "icesat2_geometry_101341 = prs.geometry.SwathDefinition(lons=df_07_101341['longitude'], lats=df_07_101341['latitude'])\n",
    "icesat2_geometry_211343 = prs.geometry.SwathDefinition(lons=df_07_211343['longitude'], lats=df_07_211343['latitude'])\n",
    "\n",
    "mod29_geometry = prs.geometry.SwathDefinition(lons=mod29['Longitude'], lats=mod29['Latitude'])\n",
    "df_07_101341['mod29_ice_surface_temperature'] = prs.kd_tree.resample_nearest(mod29_geometry, mod29['Ice_Surface_Temperature'].values, icesat2_geometry_101341, radius_of_influence=1000, fill_value=np.nan)\n",
    "df_07_211343['mod29_ice_surface_temperature'] = prs.kd_tree.resample_nearest(mod29_geometry, mod29['Ice_Surface_Temperature'].values, icesat2_geometry_211343, radius_of_influence=1000, fill_value=np.nan)\n",
    "df_07_211343\n",
    "\n",
    "# apply nan's to MOD29 land mask\n",
    "\n",
    "# use .loc method\n",
    "\n",
    "mask_101341 = df_07_101341['mod29_ice_surface_temperature'] == 50\n",
    "df_07_101341['mod29_ice_surface_temperature'][mask_101341] = np.nan\n",
    "\n",
    "mask_211343 = df_07_211343['mod29_ice_surface_temperature'] == 50\n",
    "df_07_211343['mod29_ice_surface_temperature'][mask_211343] = np.nan"
   ]
  },
  {
   "cell_type": "markdown",
   "metadata": {},
   "source": [
    "## Plot MODIS IST and ICESat-2 height along tracks\n",
    "\n",
    "* This should show cold IST over the fast ice with fairly flat and higher ICESat-2 heights\n",
    "* Warm IST will be seen in open water, thin ice just off the fast ice boundary\n",
    "    * IST will decrease along transect\n",
    "    * IS-2 should show low heights, but probably low quality (at least for ATL10, if any are available)\n",
    "    \n",
    "    \n",
    "    \n",
    " [JUST PLOT ONE BEAM AT A TIME WITH DISTANCE]\n",
    " [ATL07 VS ATL10]\n",
    " [PLOT THOSE QUALITY VALUES - INTERACTIVE]\n",
    " [PLOT ATL10 QUALITY FLAGS LOWER ON ATL07]\n",
    " [TRY DIFFERENT BEAM]\n",
    " \n",
    " \n",
    " [dont need GEOPANDAS - JUST USE PANDAS]\n",
    " [SAME PLOT MAP TOOLS]\n",
    " 1. SHOW MAP, 2. SHOW LAYERS, 3. XY PLOT, "
   ]
  },
  {
   "cell_type": "markdown",
   "metadata": {},
   "source": [
    "### First, we'll plot against time.\n",
    "\n",
    "ATL07-01_20190323211343_13050201_002_01 is moving from low to high latitude: The start time begins at the fast ice, skips over an island, and moves towards warmer thin ice onto thicker drift ice."
   ]
  },
  {
   "cell_type": "markdown",
   "metadata": {},
   "source": [
    "ATL07-01_20190323101341_12980201_002_01 is moving from high to low latitude: The start time begins at the thicker drift ice, moving towards thinner ice and open water, ending at colder fast ice. "
   ]
  },
  {
   "cell_type": "code",
   "execution_count": null,
   "metadata": {},
   "outputs": [],
   "source": [
    "# Using pandas plotting (matplotlib backend)\n",
    "fig, ax = plt.subplots(figsize=(15,5))\n",
    "df_07_211343.plot(x='utc_datetime', y='height_segment_height', ax=ax)\n",
    "df_07_211343.plot(x='utc_datetime', y='mod29_ice_surface_temperature', ax=ax, secondary_y=True)\n",
    "plt.title('ATL07-01_20190323211343_13050201_002_01 unfiltered');\n",
    "\n",
    "fig, ax = plt.subplots(figsize=(15,5))\n",
    "df_07_101341.plot(x='utc_datetime', y='height_segment_height', ax=ax)\n",
    "df_07_101341.plot(x='utc_datetime', y='mod29_ice_surface_temperature', ax=ax, secondary_y=True)\n",
    "plt.title('ATL07-01_20190323101341_12980201_002_01 unfiltered');"
   ]
  },
  {
   "cell_type": "markdown",
   "metadata": {},
   "source": [
    "### Plot MODIS IST vs. ICESat-2 as a scatterplot\n",
    "\n",
    "* Over fast ice: IST should be close to constant and height will also be fairly constant\n",
    "* Over drift ice, where it goes from thin ice toward thicker ice, we should see height increasing as IST decreases\n",
    "* If we use IST = 271.2 K for open water and then find the IST at the first valid ATL10 value, we have the IST value at that freeboard. Then can use that relationship to get thin ice freeboard where there is ATL07 data, but not ATL10\n",
    "* Comparing data with and without quality flag, the high temps are getting filtered out - more open water."
   ]
  },
  {
   "cell_type": "code",
   "execution_count": null,
   "metadata": {},
   "outputs": [],
   "source": [
    "datashade(df_07_101341.hvplot.points(x='mod29_ice_surface_temperature', y='height_segment_height', c='latitude', height=800, width=2000))\n"
   ]
  },
  {
   "cell_type": "code",
   "execution_count": null,
   "metadata": {},
   "outputs": [],
   "source": [
    "datashade(df_07_211343.hvplot.points(x='mod29_ice_surface_temperature', y='height_segment_height', c='latitude', height=800, width=2000))"
   ]
  },
  {
   "cell_type": "markdown",
   "metadata": {},
   "source": [
    "Add ATL10 to show coverage and freeboard estimate."
   ]
  },
  {
   "cell_type": "markdown",
   "metadata": {},
   "source": [
    "### Data filtering by quality flag\n",
    "\n",
    "We'll compare data before and after applying the quality flag. For each beam group within each file, filter `/sea_ice_segments/heights/height_segment_height` based on `/sea_ice_segments/heights/height_segment_quality`. According to the [User Guide](https://nsidc.org/data/ATL07#title38):\n",
    "\n",
    "height_segment_quality: a binary indicator (1 = good, 0 = bad) of segment quality"
   ]
  },
  {
   "cell_type": "code",
   "execution_count": null,
   "metadata": {},
   "outputs": [],
   "source": [
    "qual_filter_101341 = df_07_101341['height_segment_quality']==1\n",
    "qual_filter_211343 = df_07_211343['height_segment_quality']==1"
   ]
  },
  {
   "cell_type": "code",
   "execution_count": null,
   "metadata": {},
   "outputs": [],
   "source": [
    "fig, ax = plt.subplots(figsize=(15,5))\n",
    "df_07_211343[qual_filter_211343].plot(x='utc_datetime', y='height_segment_height', ax=ax)\n",
    "df_07_211343[qual_filter_211343].plot(x='utc_datetime', y='mod29_ice_surface_temperature', ax=ax, secondary_y=True)\n",
    "plt.title('ATL07-01_20190323211343_13050201_002_01 filtered');\n",
    "\n",
    "\n",
    "# Using pandas plotting (matplotlib backend)\n",
    "fig, ax = plt.subplots(figsize=(15, 5))\n",
    "df_07_101341[qual_filter_101341].plot(x='utc_datetime', y='height_segment_height', ax=ax)\n",
    "df_07_101341[qual_filter_101341].plot(x='utc_datetime', y='mod29_ice_surface_temperature', ax=ax, secondary_y=True)\n",
    "plt.title('ATL07-01_20190323101341_12980201_002_01 filtered');"
   ]
  },
  {
   "cell_type": "code",
   "execution_count": null,
   "metadata": {},
   "outputs": [],
   "source": [
    "datashade(df_07_101341[qual_filter_101341].hvplot.points(x='mod29_ice_surface_temperature', y='height_segment_height', c='latitude', height=800, width=2000))"
   ]
  },
  {
   "cell_type": "code",
   "execution_count": null,
   "metadata": {},
   "outputs": [],
   "source": [
    "atl07_frames = [df_07_101341, df_07_211343]\n",
    "df_atl07 = pd.concat(atl07_frames,ignore_index=True)\n",
    "datashade(df_atl07.hvplot.points(x='mod29_ice_surface_temperature', y='height_segment_height', c='latitude', height=800, width=2000))"
   ]
  },
  {
   "cell_type": "code",
   "execution_count": null,
   "metadata": {},
   "outputs": [],
   "source": [
    "datashade(df_07_211343[qual_filter_211343].hvplot.points(x='mod29_ice_surface_temperature', y='height_segment_height', c='latitude', size=400))"
   ]
  },
  {
   "cell_type": "markdown",
   "metadata": {},
   "source": [
    "### Now plot against distance\n",
    "\n",
    "This needs to be plotted by beam... "
   ]
  },
  {
   "cell_type": "markdown",
   "metadata": {},
   "source": [
    "## Extract ICESat-2 heights along MODIS IST values\n",
    "\n",
    "* Use MODIS footprint as the baseline and match/bin IS-2 to each MODIS observation"
   ]
  },
  {
   "cell_type": "code",
   "execution_count": null,
   "metadata": {},
   "outputs": [],
   "source": []
  },
  {
   "cell_type": "code",
   "execution_count": null,
   "metadata": {},
   "outputs": [],
   "source": []
  },
  {
   "cell_type": "code",
   "execution_count": null,
   "metadata": {},
   "outputs": [],
   "source": []
  },
  {
   "cell_type": "code",
   "execution_count": null,
   "metadata": {},
   "outputs": [],
   "source": []
  },
  {
   "cell_type": "code",
   "execution_count": null,
   "metadata": {},
   "outputs": [],
   "source": []
  },
  {
   "cell_type": "code",
   "execution_count": null,
   "metadata": {},
   "outputs": [],
   "source": [
    "# # separate each beam\n",
    "\n",
    "# gt1l = df_single['beam']=='gt1l'\n",
    "# gt2l = df_single['beam']=='gt2l'\n",
    "# gt3l = df_single['beam']=='gt3l'"
   ]
  },
  {
   "cell_type": "code",
   "execution_count": null,
   "metadata": {},
   "outputs": [],
   "source": [
    "# fig, ax = plt.subplots(figsize=(15, 5))\n",
    "# df_single[gt1l].plot(x='distance', y='height_segment_height', ax=ax)\n",
    "# df_single[gt1l].plot(x='distance', y='mod29_ice_surface_temperature', ax=ax, secondary_y=True)\n",
    "\n",
    "# fig, ax = plt.subplots(figsize=(15, 5))\n",
    "# df_single[gt2l].plot(x='distance', y='height_segment_height', ax=ax)\n",
    "# df_single[gt2l].plot(x='distance', y='mod29_ice_surface_temperature', ax=ax, secondary_y=True)\n",
    "\n",
    "# fig, ax = plt.subplots(figsize=(15, 5))\n",
    "# df_single[gt3l].plot(x='distance', y='height_segment_height', ax=ax)\n",
    "# df_single[gt3l].plot(x='distance', y='mod29_ice_surface_temperature', ax=ax, secondary_y=True)"
   ]
  },
  {
   "cell_type": "code",
   "execution_count": null,
   "metadata": {},
   "outputs": [],
   "source": [
    "df_single[qual_filter].plot.scatter(x='mod29_ice_surface_temperature', y='height_segment_height')\n",
    "\n"
   ]
  },
  {
   "cell_type": "code",
   "execution_count": null,
   "metadata": {},
   "outputs": [],
   "source": [
    "## add ATL10 now? This could show coverage and show the freeboard estimate. "
   ]
  },
  {
   "cell_type": "code",
   "execution_count": null,
   "metadata": {},
   "outputs": [],
   "source": []
  },
  {
   "cell_type": "code",
   "execution_count": null,
   "metadata": {},
   "outputs": [],
   "source": []
  },
  {
   "cell_type": "markdown",
   "metadata": {},
   "source": [
    "### Add AMSR2 (AU_SI6) 89V-H difference to MODIS IST and ICESat-2 plots\n",
    "\n",
    "* Difference for open water/thin ice large (~40-50 K), for thicker ice near zero (<10 K)\n",
    "* Or calculate the polarization ratio (PR) = (89V – 89H)/(89V + 89H), which is commonly used in the PM sea ice community\n",
    "* In theory can get concentration from PR (or 89 difference), but don’t really need to do that here.\n"
   ]
  },
  {
   "cell_type": "markdown",
   "metadata": {},
   "source": []
  },
  {
   "cell_type": "markdown",
   "metadata": {},
   "source": [
    "### A couple other possibilities:\n",
    "* Compare cross-over points between tracks 1298 and 1305. \n",
    "    * This is over drift ice, but might be able to correlate between them\n",
    "    * Using all strong beams, there are 9 cross-over points, so there is \n",
    "* Compare 1298 repeat track from 12/22/2018 and 3/23/2019\n",
    "    * For fast ice, should see an increase in height from Dec to Mar as snow depth and ice thickness increases\n",
    "        * From a quick look at OA, I’m not really seeing this though\n",
    "        * Not much from ATL10\n",
    "        * Lots of data in ATL07, but don’t really see a connection – in fact Dec looks lower than Mar; this could be due to corrections/quality issues"
   ]
  },
  {
   "cell_type": "markdown",
   "metadata": {},
   "source": [
    "### Extra Credit"
   ]
  },
  {
   "cell_type": "markdown",
   "metadata": {},
   "source": [
    "#### Explore ATL03 (photon-level) heights"
   ]
  },
  {
   "cell_type": "markdown",
   "metadata": {},
   "source": [
    "Load ATL03 Variables:"
   ]
  },
  {
   "cell_type": "code",
   "execution_count": null,
   "metadata": {},
   "outputs": [],
   "source": [
    "VARIABLES = {\n",
    "    'ATL03': [\n",
    "        '/gt1l/heights/delta_time',\n",
    "        '/gt1l/heights/h_ph',\n",
    "        '/gt1l/heights/lat_ph',\n",
    "        '/gt1l/heights/lon_ph',\n",
    "        '/gt1l/heights/signal_conf_ph',\n",
    "        '/gt2l/heights/delta_time',\n",
    "        '/gt2l/heights/h_ph',\n",
    "        '/gt2l/heights/lat_ph',\n",
    "        '/gt2l/heights/lon_ph',\n",
    "        '/gt2l/heights/signal_conf_ph',\n",
    "        '/gt3l/heights/delta_time',\n",
    "        '/gt3l/heights/h_ph',\n",
    "        '/gt3l/heights/lat_ph',\n",
    "        '/gt3l/heights/lon_ph',\n",
    "        '/gt3l/heights/signal_conf_ph'\n",
    "    ],"
   ]
  },
  {
   "cell_type": "markdown",
   "metadata": {},
   "source": [
    "Use the load_icesat2_as_dataframe function from our functions module to load points from our ATL03 files:"
   ]
  },
  {
   "cell_type": "code",
   "execution_count": null,
   "metadata": {},
   "outputs": [],
   "source": [
    "# Running out of memory on these:\n",
    "# #df_03_103438 = functions.load_icesat2_as_dataframe('./Outputs/processed_ATL03_20190323103438_12980204_002_01.h5', VARIABLES)\n",
    "# df_03_103947 = functions.load_icesat2_as_dataframe('./Outputs/processed_ATL03_20190323103947_12980205_002_01.h5', VARIABLES)\n",
    "# df_03_212915 = functions.load_icesat2_as_dataframe('./Outputs/processed_ATL03_20190323212915_13050203_002_01.h5', VARIABLES)\n",
    "# #df_03_213440 = functions.load_icesat2_as_dataframe('./Outputs/processed_ATL03_20190323213440_13050204_002_01.h5', VARIABLES)\n",
    "\n",
    "\n",
    "#atl03_frames = [df_03_103438, df_03_103947, df_03_212915, df_03_213440]\n",
    "#atl03_df = pd.concat(atl03_frames,ignore_index=True)\n"
   ]
  },
  {
   "cell_type": "code",
   "execution_count": null,
   "metadata": {},
   "outputs": [],
   "source": [
    "# min_lon, max_lon = mod29.Longitude.min(), mod29.Longitude.max()\n",
    "# min_lat, max_lat = mod29.Latitude.min(), mod29.Latitude.max()\n",
    "# mod29_boundary = Polygon(\n",
    "#     [\n",
    "#         (min_lon, min_lat), \n",
    "#         (max_lon, min_lat), \n",
    "#         (max_lon, max_lat), \n",
    "#         (min_lon, max_lat), \n",
    "#         (min_lon, min_lat)\n",
    "#     ]\n",
    "# )"
   ]
  },
  {
   "cell_type": "code",
   "execution_count": null,
   "metadata": {},
   "outputs": [],
   "source": [
    "# Warning: rather slow operation here, takes a few minutes for 200000 points\n",
    "#distance = gdf_all.groupby(['filename', 'beam']).apply(functions.compute_along_track_distance)\n",
    "\n",
    "# Warning: rather slow operation here, takes a few minutes for 200000 points\n",
    "#distance_single = gdf_single.groupby(['filename','beam']).apply(functions.compute_along_track_distance)\n",
    "\n",
    "# Convert pandas series to list\n",
    "#distance_list = distance_single.tolist()\n",
    "\n",
    "# Create new gdf with distance added\n",
    "# gdf_dist = gdf_single.assign(distance = distance_list)"
   ]
  }
 ],
 "metadata": {
  "kernelspec": {
   "display_name": "Python 3",
   "language": "python",
   "name": "python3"
  },
  "language_info": {
   "codemirror_mode": {
    "name": "ipython",
    "version": 3
   },
   "file_extension": ".py",
   "mimetype": "text/x-python",
   "name": "python",
   "nbconvert_exporter": "python",
   "pygments_lexer": "ipython3",
   "version": "3.7.3"
  }
 },
 "nbformat": 4,
 "nbformat_minor": 4
}
