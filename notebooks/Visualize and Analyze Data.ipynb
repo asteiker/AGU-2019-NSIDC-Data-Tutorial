{
 "cells": [
  {
   "cell_type": "markdown",
   "metadata": {},
   "source": [
    "# Visualize and Analyze Data\n",
    "\n",
    "This notebook will explore the data we downloaded in the `Customize and Access Data` notebook to fulfill the final objective of this tutorial: \n",
    "\n",
    "* Interact with ICESat-2 and MODIS data using basic Python science libraries to visualize, filter, and plot concurrent data.\n",
    "\n",
    "We will perform the following steps:\n",
    "\n",
    "1. Read in ATL07 and ATL10 data; apply time and along track distance calculations\n",
    "3. Read in MOD29 data and apply scale factor \n",
    "4. Overlay ATL07 data over MODIS IST\n",
    "5. Extract MODIS IST values along ATL07 heights\n",
    "6. Plot MODIS IST and ICESat-2 heights\n",
    "7. Plot ATL07 and ATL10 and compare ATL10 coverage with ATL07 quality variables\n",
    "   "
   ]
  },
  {
   "cell_type": "markdown",
   "metadata": {},
   "source": [
    "### Import packages"
   ]
  },
  {
   "cell_type": "code",
   "execution_count": null,
   "metadata": {},
   "outputs": [],
   "source": [
    "from collections import defaultdict\n",
    "from osgeo import gdal, osr\n",
    "import math\n",
    "import h5py\n",
    "import xarray as xr\n",
    "import pyproj\n",
    "import pandas as pd\n",
    "from shapely.geometry import Point,Polygon\n",
    "import pyresample as prs\n",
    "import cartopy.crs as ccrs\n",
    "from matplotlib import pyplot as plt\n",
    "import hvplot.pandas  # Adds the 'hvplot' method to pandas objects\n",
    "import hvplot.xarray  # Adds the 'hvplot' method to xarray objects\n",
    "import rasterio\n",
    "import numpy as np\n",
    "from holoviews.operation.datashader import datashade\n",
    "import datashader.geo\n",
    "\n",
    "# Helper functions\n",
    "import tutorial_helper_functions as fn\n",
    "\n",
    "%matplotlib inline"
   ]
  },
  {
   "cell_type": "code",
   "execution_count": null,
   "metadata": {},
   "outputs": [],
   "source": [
    "!aws --no-sign-request --region=us-west-2 s3 sync s3://nsidc-agu-tutorial-data/ Outputs"
   ]
  },
  {
   "cell_type": "markdown",
   "metadata": {},
   "source": [
    "## Read in ATL07 and perform calculations"
   ]
  },
  {
   "cell_type": "markdown",
   "metadata": {},
   "source": [
    "We will be using a few different packages to read in our data:\n",
    "\n",
    "* [Pandas DataFrame](https://pandas.pydata.org/pandas-docs/stable/getting_started/overview.html)\n",
    "    * Pandas is built on top of NumPy and provides easy to work with data structures. The pandas dataframe is a 2-D tabular data structure with labeled axes. \n",
    "* [Gdal](https://pypi.org/project/GDAL/)\n",
    "    * Tools for programming and manipulating the Geospatial Data Abstraction Library (GDAL).\n",
    "* [Rasterio](https://rasterio.readthedocs.io/en/stable/index.html)\n",
    "    * Rasterio reads and writes raster formats including GeoTIFF.\n",
    "* [Xarray](http://xarray.pydata.org/en/stable/index.html)\n",
    "    * Designed for multidimensional data. Xarray introduces labels in the form of dimensions, coordinates and attributes on top of raw NumPy-like arrays. "
   ]
  },
  {
   "cell_type": "markdown",
   "metadata": {},
   "source": [
    "### Load ATL07 granules into dataframes\n",
    "\n",
    "We will start by defining variables to extract and combine as a single dataframe:"
   ]
  },
  {
   "cell_type": "code",
   "execution_count": null,
   "metadata": {},
   "outputs": [],
   "source": [
    "VARIABLES = {\n",
    "    'ATL07': [\n",
    "        '/gt1l/sea_ice_segments/delta_time',\n",
    "        '/gt1l/sea_ice_segments/latitude',\n",
    "        '/gt1l/sea_ice_segments/longitude',\n",
    "        '/gt1l/sea_ice_segments/heights/height_segment_confidence',\n",
    "        '/gt1l/sea_ice_segments/heights/height_segment_height',\n",
    "        '/gt1l/sea_ice_segments/heights/height_segment_quality',\n",
    "        '/gt1l/sea_ice_segments/heights/height_segment_surface_error_est',\n",
    "        '/gt1l/sea_ice_segments/heights/height_segment_length_seg',\n",
    "        '/gt2l/sea_ice_segments/delta_time',\n",
    "        '/gt2l/sea_ice_segments/latitude',\n",
    "        '/gt2l/sea_ice_segments/longitude',\n",
    "        '/gt2l/sea_ice_segments/heights/height_segment_confidence',\n",
    "        '/gt2l/sea_ice_segments/heights/height_segment_height',\n",
    "        '/gt2l/sea_ice_segments/heights/height_segment_quality',\n",
    "        '/gt2l/sea_ice_segments/heights/height_segment_surface_error_est',\n",
    "        '/gt2l/sea_ice_segments/heights/height_segment_length_seg',\n",
    "        '/gt3l/sea_ice_segments/delta_time',\n",
    "        '/gt3l/sea_ice_segments/latitude',\n",
    "        '/gt3l/sea_ice_segments/longitude',\n",
    "        '/gt3l/sea_ice_segments/heights/height_segment_confidence',\n",
    "        '/gt3l/sea_ice_segments/heights/height_segment_height',\n",
    "        '/gt3l/sea_ice_segments/heights/height_segment_quality',\n",
    "        '/gt3l/sea_ice_segments/heights/height_segment_surface_error_est',\n",
    "        '/gt3l/sea_ice_segments/heights/height_segment_length_seg'\n",
    "    ]\n",
    "}"
   ]
  },
  {
   "cell_type": "markdown",
   "metadata": {},
   "source": [
    "#### We will use the `load_icesat2_as_dataframe` function from our functions module to load points from our ATL07 files: "
   ]
  },
  {
   "cell_type": "code",
   "execution_count": null,
   "metadata": {},
   "outputs": [],
   "source": [
    "# Load ATL07 granules and combine into single ATL07 dataframe\n",
    "\n",
    "atl07_1298 = fn.load_icesat2_as_dataframe('./Outputs/processed_ATL07-01_20190323101341_12980201_002_01.h5', VARIABLES)\n",
    "atl07_1305 = fn.load_icesat2_as_dataframe('./Outputs/processed_ATL07-01_20190323211343_13050201_002_01.h5', VARIABLES)\n",
    "\n",
    "atl07 = pd.concat([atl07_1298,atl07_1305]) #concatenate dataframes to use in plot below\n",
    "\n",
    "atl07_1305.head()"
   ]
  },
  {
   "cell_type": "markdown",
   "metadata": {},
   "source": [
    "### Convert ATL07 'delta_time' to utc datetime values"
   ]
  },
  {
   "cell_type": "code",
   "execution_count": null,
   "metadata": {},
   "outputs": [],
   "source": [
    "# Add datetime values to each dataframe\n",
    "\n",
    "data_granules = [atl07_1298, atl07_1305]\n",
    "\n",
    "for df in data_granules:\n",
    "    df['utc_datetime'] = df['delta_time'].apply(fn.convert_delta_time)\n",
    "    df = df.sort_values(by=['beam', 'utc_datetime'])\n",
    "\n",
    "# atl07_1298\n",
    "data_granules[0].head()"
   ]
  },
  {
   "cell_type": "markdown",
   "metadata": {},
   "source": [
    "### Compute along track distance\n",
    "\n",
    "The `height_segment_length_seg` variable provides the length of each segment. We need these values to be cumulative so that we can plot against distance.  \n"
   ]
  },
  {
   "cell_type": "code",
   "execution_count": null,
   "metadata": {},
   "outputs": [],
   "source": [
    "from IPython.display import display, HTML\n",
    "\n",
    "for df in data_granules:\n",
    "    df['add_dist'] = df.groupby(['beam'])['height_segment_length_seg'].cumsum()\n",
    "    \n",
    "\n",
    "# same as data_granules[0]\n",
    "display(HTML(atl07_1298.loc[atl07_1298['beam'] == 'gt1l'].head().to_html()))\n"
   ]
  },
  {
   "cell_type": "markdown",
   "metadata": {},
   "source": [
    "## Read in MODIS Ice Surface Temperature file and perform calculations\n",
    "\n",
    "There were 13 granules returned over our time and area of interest. We can use Earthdata Search to easily visualize the coverage of each granule:\n",
    "[MODIS Earthdata Search result](https://search.earthdata.nasa.gov/search/granules?p=C1000001160-NSIDC_ECS&q=mod29&sb=140%2C72%2C153%2C80&m=80.14349326047419!-42.27686414753069!0!0!0!0%2C2&qt=2019-03-23T00%3A00%3A00.000Z%2C2019-03-23T23%3A59%3A59.999Z&tl=1557787959!4!)\n",
    "\n",
    "Let's choose a single MODIS granule to be used in our analysis below. \n",
    "\n",
    "Out of the 13 returned, these all have full coverage over our study area:\n",
    "\n",
    "* MOD29.A2019082.0810.006.2019082191746.hdf\n",
    "* MOD29.A2019082.0630.006.2019082191633.hdf\n",
    "* MOD29.A2019082.0455.006.2019082132032.hdf\n",
    "* MOD29.A2019082.0945.006.2019082191513.hdf\n",
    "\n",
    "And after viewing the browse images, this looks to have the best data coverage:\n",
    "\n",
    "* MOD29.A2019082.0140.006.2019082132036.hdf\n"
   ]
  },
  {
   "cell_type": "markdown",
   "metadata": {},
   "source": [
    "### Load the MOD29 file into xarray"
   ]
  },
  {
   "cell_type": "code",
   "execution_count": null,
   "metadata": {},
   "outputs": [],
   "source": [
    "# Define local filepath and open as xarray\n",
    "\n",
    "filepath = './Outputs/MOD29_A2019082_0140_006_2019082132036_HEGOUT.hdf'\n",
    "\n",
    "mod29 = xr.open_dataset(filepath)\n",
    "mod29"
   ]
  },
  {
   "cell_type": "markdown",
   "metadata": {},
   "source": [
    "### Convert calibrated data to Kelvin\n",
    "\n",
    "Before we plot the ATL07 heights over MODIS IST, we need to convert the Ice_Surface_Temperature values to kelvin. According to the [MOD29 User Guide](https://nsidc.org/data/mod29#title11) the Ice_Surface_Temperature (IST) values are stored as calibrated data. To convert to kelvin, use scale_factor = 0.01 and add_offset = 0.0 in the following equation:\n",
    "\n",
    "IST = scale_factor × (calibrated data - add_offset)\n",
    "\n",
    "The valid range for ISTs is 210 K to 313.20 K.\n",
    "\n",
    "Let's apply this conversion to our xarray:"
   ]
  },
  {
   "cell_type": "code",
   "execution_count": null,
   "metadata": {},
   "outputs": [],
   "source": [
    "mod29['Ice_Surface_Temperature'] = mod29['Ice_Surface_Temperature']*(0.01) # Apply calibrated data to kelvin conversion"
   ]
  },
  {
   "cell_type": "markdown",
   "metadata": {},
   "source": [
    "### Load MODIS IST image\n",
    "\n",
    "A GeoTIFF was created using the NASA Worldview snapshot feature from MOD29 high-resolution browse imagery: </n> \n",
    "\n",
    "MODIS IST: https://go.nasa.gov/34fBnp8\n",
    "\n",
    "We'll read in the projection information below to help inform our plotting projection parameters in the next step:"
   ]
  },
  {
   "cell_type": "code",
   "execution_count": null,
   "metadata": {},
   "outputs": [],
   "source": [
    "# Read geotiff images from gdal \n",
    "gdal.UseExceptions()\n",
    "\n",
    "fname_ist = './Outputs/snapshot-2019-03-23T00_00_00Z-IST.tiff'\n",
    "\n",
    "ds_ist = gdal.Open(fname_ist)\n",
    "proj_ist = ds_ist.GetProjection()\n",
    "inproj = osr.SpatialReference()\n",
    "inproj.ImportFromWkt(proj_ist)\n",
    "\n",
    "#Print proj4 string\n",
    "proj4_ist = inproj.ExportToProj4()\n",
    "print('MODIS IST proj4:',proj4_ist)"
   ]
  },
  {
   "cell_type": "markdown",
   "metadata": {},
   "source": [
    "## Visualize ICESat-2 height values over MODIS Ice Surface Temperature\n",
    "\n",
    "We can visualize the ICESat-2 track locations and height values overlayed with MODIS Ice Surface Temperature. We should see higher ATL07 heights along fast ice, with lower heights over thin ice and then increasing height over drift ice.  [YOU WILL GET A MESSAGE IF YOU FIRST DOWNLOADED THE COASTLINE] [add ist values and crop image] [CHANGE WIDTH / HEIGHTS]"
   ]
  },
  {
   "cell_type": "code",
   "execution_count": null,
   "metadata": {},
   "outputs": [],
   "source": [
    "# Read in data using rasterio\n",
    "#source_ist = xr.open_rasterio(fname_ist)\n",
    "source_ist = rasterio.open(fname_ist, 'r')\n",
    "bounds_ist = (source_ist.bounds.left, source_ist.bounds.right, \\\n",
    "          source_ist.bounds.bottom, source_ist.bounds.top)\n"
   ]
  },
  {
   "cell_type": "code",
   "execution_count": null,
   "metadata": {},
   "outputs": [],
   "source": [
    "# Plot ICESat-2 over MODIS IST\n",
    "\n",
    "fig = plt.figure(figsize=(8, 10))\n",
    "img = plt.imread(fname_ist)\n",
    "plot_proj = ccrs.Stereographic(central_longitude=-45, central_latitude=90, \n",
    "                               false_easting=0, false_northing=0,\n",
    "                               true_scale_latitude=70)\n",
    "\n",
    "ax = plt.axes(projection=plot_proj)\n",
    "plt.title('ATL07 height values\\n'\n",
    "          '03/23/2019')\n",
    "\n",
    "# set a margin around the data\n",
    "ax.set_xmargin(0.05)\n",
    "ax.set_ymargin(0.10)\n",
    "\n",
    "# add the image. Because this image was a tiff, the \"origin\" of the image is in the upper left corner\n",
    "base_img = ax.imshow(img, origin='upper', extent=bounds_ist, transform=plot_proj)\n",
    "cbar2 = fig.colorbar(base_img, ax=ax)\n",
    "\n",
    "cbar2.set_label('Ice Surface Temperature (K)')\n",
    "ax.coastlines(resolution='50m', color='black', linewidth=1)\n",
    "\n",
    "heights = ax.scatter(atl07.longitude, atl07.latitude, transform=ccrs.Geodetic(),\n",
    "          c=atl07.height_segment_height,\n",
    "          cmap='Reds', alpha=0.6)              \n",
    "\n",
    "cbar = fig.colorbar(heights, ax=ax)\n",
    "\n",
    "cbar.set_label('Height (m)')\n",
    "\n",
    "plt.show()"
   ]
  },
  {
   "cell_type": "code",
   "execution_count": null,
   "metadata": {},
   "outputs": [],
   "source": [
    "# title = 'MOD29 Ice Surface Temperature (K)'\n",
    "rasterized_ist = mod29.Ice_Surface_Temperature.hvplot.image(rasterize=True, \n",
    "                                         cmap='viridis', height=400, width=800).redim.range(Ice_Surface_Temperature=(240,270))\n",
    "rasterized_ist.options(cmap='viridis')\n",
    "\n",
    "\n",
    "#Incorporate ICESat-2 values\n",
    "# datashade(df_atl07.hvplot.points(x='longitude', y='latitude'))\n",
    "# x, y = datashader.geo.lnglat_to_meters(df_atl07.longitude, df_atl07.latitude)\n",
    "\n",
    "# mod29.Ice_Surface_Temperature.hvplot.quadmesh('Along_swath_lines_1km:MOD_Swath_Sea_Ice', 'Cross_swath_pixels_1km:MOD_Swath_Sea_Ice', projection=test, project=True, \n",
    "#                                               cmap='viridis', rasterize=True, dynamic=False,).redim.range(Ice_Surface_Temperature=(240,700))"
   ]
  },
  {
   "cell_type": "markdown",
   "metadata": {},
   "source": [
    "## Extract MODIS IST values along the ICESat-2 tracks\n",
    "\n",
    "Now that we've visually inspected height and IST values, let's do some analysis. We will now extract MODIS IST values at each ATL07 point.\n"
   ]
  },
  {
   "cell_type": "markdown",
   "metadata": {},
   "source": [
    "### Interpolating MOD29 onto ICESat-2 points\n",
    "\n",
    "To easily interpolate MOD29 to ICESat-2 points, we can use the `pyresample` library. The `radius_of_influence` parameter determines maximum radius to look for nearest neighbor interpolation."
   ]
  },
  {
   "cell_type": "code",
   "execution_count": null,
   "metadata": {},
   "outputs": [],
   "source": [
    "icesat2_geometry_1298 = prs.geometry.SwathDefinition(lons=atl07_1298['longitude'], lats=atl07_1298['latitude'])\n",
    "icesat2_geometry_1305 = prs.geometry.SwathDefinition(lons=atl07_1305['longitude'], lats=atl07_1305['latitude'])\n",
    "\n",
    "mod29_geometry = prs.geometry.SwathDefinition(lons=mod29['Longitude'], lats=mod29['Latitude'])\n",
    "atl07_1298['mod29_ice_surface_temperature'] = prs.kd_tree.resample_nearest(mod29_geometry, mod29['Ice_Surface_Temperature'].values, icesat2_geometry_1298, radius_of_influence=1000, fill_value=np.nan)\n",
    "atl07_1305['mod29_ice_surface_temperature'] = prs.kd_tree.resample_nearest(mod29_geometry, mod29['Ice_Surface_Temperature'].values, icesat2_geometry_1305, radius_of_influence=1000, fill_value=np.nan)"
   ]
  },
  {
   "cell_type": "markdown",
   "metadata": {},
   "source": [
    "We can now apply nan's to the MOD29 land mask value:"
   ]
  },
  {
   "cell_type": "code",
   "execution_count": null,
   "metadata": {},
   "outputs": [],
   "source": [
    "# apply nan's to MOD29 land mask\n",
    "\n",
    "atl07_1298[atl07_1298['mod29_ice_surface_temperature'] == 50] = np.nan\n",
    "atl07_1305[atl07_1305['mod29_ice_surface_temperature'] == 50] = np.nan"
   ]
  },
  {
   "cell_type": "markdown",
   "metadata": {},
   "source": [
    "## Plot MODIS IST and ICESat-2 height along tracks\n",
    " "
   ]
  },
  {
   "cell_type": "markdown",
   "metadata": {},
   "source": [
    "### First, we'll plot against time.\n",
    "\n",
    "ATL07-01_20190323211343_13050201_002_01 is moving from low to high latitude: The start time begins at the fast ice, skips over an island, and moves towards warmer thin ice onto thicker drift ice."
   ]
  },
  {
   "cell_type": "markdown",
   "metadata": {},
   "source": [
    "ATL07-01_20190323101341_12980201_002_01 is moving from high to low latitude: The start time begins at the thicker drift ice, moving towards thinner ice and open water, ending at colder fast ice. "
   ]
  },
  {
   "cell_type": "code",
   "execution_count": null,
   "metadata": {},
   "outputs": [],
   "source": [
    "# Using pandas plotting (matplotlib backend)\n",
    "fig, ax = plt.subplots(figsize=(10,3))\n",
    "atl07_1305.plot(x='utc_datetime', y='height_segment_height', ax=ax)\n",
    "atl07_1305.plot(x='utc_datetime', y='mod29_ice_surface_temperature', ax=ax, secondary_y=True)\n",
    "plt.title('ATL07-01_20190323211343_13050201_002_01');\n",
    "\n",
    "fig, ax = plt.subplots(figsize=(10,3))\n",
    "atl07_1298.plot(x='utc_datetime', y='height_segment_height', ax=ax)\n",
    "atl07_1298.plot(x='utc_datetime', y='mod29_ice_surface_temperature', ax=ax, secondary_y=True)\n",
    "plt.title('ATL07-01_20190323101341_12980201_002_01');"
   ]
  },
  {
   "cell_type": "markdown",
   "metadata": {},
   "source": [
    "### Next, let's plot against distance. \n",
    "\n",
    "Because each height segment represents a variable distance based on 150 photon returns, this is a more accurate representation of height and IST values across the transect. We'll focus on ICESat-2 track 1298 since this track has fewer data gaps over the islands. Again, this track is moving from high to low latitude: The start distance begins at the thicker drift ice, moving towards thinner ice and open water, ending at colder fast ice. "
   ]
  },
  {
   "cell_type": "code",
   "execution_count": null,
   "metadata": {},
   "outputs": [],
   "source": [
    "fig, ax = plt.subplots(figsize=(10,3))\n",
    "fig.suptitle('ATL07-01_20190323101341_12980201_002_01 gt1l')\n",
    "atl07_1298.loc[atl07_1298['beam'] == 'gt1l'].plot(x='add_dist', y='height_segment_height', ax=ax)\n",
    "atl07_1298.loc[atl07_1298['beam'] == 'gt1l'].plot(x='add_dist', y='mod29_ice_surface_temperature', ax=ax, secondary_y=True)\n",
    "\n",
    "fig, ax = plt.subplots(figsize=(10,3))\n",
    "fig.suptitle('ATL07-01_20190323101341_12980201_002_01 gt2l')\n",
    "atl07_1298.loc[atl07_1298['beam'] == 'gt2l'].plot(x='add_dist', y='height_segment_height', ax=ax)\n",
    "atl07_1298.loc[atl07_1298['beam'] == 'gt2l'].plot(x='add_dist', y='mod29_ice_surface_temperature', ax=ax, secondary_y=True)\n",
    "\n",
    "fig, ax = plt.subplots(figsize=(10,3))\n",
    "fig.suptitle('ATL07-01_20190323101341_12980201_002_01 gt3l')\n",
    "atl07_1298.loc[atl07_1298['beam'] == 'gt3l'].plot(x='add_dist', y='height_segment_height', ax=ax)\n",
    "atl07_1298.loc[atl07_1298['beam'] == 'gt3l'].plot(x='add_dist', y='mod29_ice_surface_temperature', ax=ax, secondary_y=True);\n"
   ]
  },
  {
   "cell_type": "markdown",
   "metadata": {},
   "source": [
    "Key observations:\n",
    "\n",
    "* As the drift ice thins, the height is decreasing as IST increases.\n",
    "* Over fast ice, cold IST with fairly constant and higher ICESat-2 heights.\n",
    "* Warm IST is seen in open water, with thin ice just off the fast ice boundary"
   ]
  },
  {
   "cell_type": "markdown",
   "metadata": {},
   "source": [
    "## How does this compare to the ATL10 freeboard data?\n",
    "\n",
    "## Luis, here are final steps:\n",
    "\n",
    "1. Read in the ATL10 granules (staged on s3) and apply the same time and distance calculations. Might be quicker for the tutorial to just add those into the ATL07 code blocks above (less shift-entering).\n",
    "\n",
    "For ATL10, read in:\n",
    "\n",
    "'/gt1l/freeboard_beam_segment/delta_time',\n",
    "'/gt1l/freeboard_beam_segment/latitude',\n",
    "'/gt1l/freeboard_beam_segment/longitude',\n",
    "'/gt1l/freeboard_beam_segment/beam_fb_height,\n",
    "'/gt2l/freeboard_beam_segment/delta_time',\n",
    "'/gt2l/freeboard_beam_segment/latitude',\n",
    "'/gt2l/freeboard_beam_segment/longitude',\n",
    "'/gt2l/freeboard_beam_segment/beam_fb_height,\n",
    "'/gt3l/freeboard_beam_segment/delta_time',\n",
    "'/gt3l/freeboard_beam_segment/latitude',\n",
    "'/gt3l/freeboard_beam_segment/longitude',\n",
    "'/gt3l/freeboard_beam_segment/beam_fb_height,\n",
    "\n",
    "2. Just using the 1298 track, set up a plot with ATL07 and ATL10 plotted by distance. Just pick one beam to plot. \n",
    "\n",
    "3. What we want to show is: How do the ATL07 quality parameters relate to ATL10 coverage? We should see more ATL10 values with better ATL07 quality and visa versa. The plot should be set up to where the participants could interact and plot the three different ATL07 quality parameters:\n",
    "\n",
    "`height_segment_quality`\n",
    "`height_segment_confidence`\n",
    "`height_segment_surface_error_est`\n",
    "\n",
    "    \n",
    "I started to do this below against the MODIS IST data but I think it's best to focus on comparing ATL07 and ATL10 without MODIS. "
   ]
  },
  {
   "cell_type": "markdown",
   "metadata": {},
   "source": [
    "### Data filtering by quality flag\n",
    "\n",
    "We'll compare data before and after applying the quality flags we subsetted. Let's start by filtering `/sea_ice_segments/heights/height_segment_height` based on `/sea_ice_segments/heights/height_segment_quality` for each beam group. According to the [User Guide](https://nsidc.org/data/ATL07#title38):\n",
    "\n",
    "height_segment_quality: a binary indicator (1 = good, 0 = bad) of segment quality"
   ]
  },
  {
   "cell_type": "code",
   "execution_count": null,
   "metadata": {},
   "outputs": [],
   "source": [
    "cond = {'beam': 'gt1l', 'height_segment_quality': 1}\n",
    "fig, ax = plt.subplots(figsize=(10,3))\n",
    "atl07_1298.loc[(atl07_1298.beam == cond['beam']) & (atl07_1298.height_segment_quality == cond['height_segment_quality'])].plot(x='add_dist', y='height_segment_height', ax=ax)\n",
    "atl07_1298.loc[(atl07_1298.beam == cond['beam']) & (atl07_1298.height_segment_quality == cond['height_segment_quality'])].plot(x='add_dist', y='mod29_ice_surface_temperature', ax=ax, secondary_y=True)\n",
    "plt.title('ATL07-01_20190323211343_13050201_002_01 gt1l filtered');"
   ]
  },
  {
   "cell_type": "markdown",
   "metadata": {},
   "source": [
    "What should we see above?\n",
    "\n",
    "* If we use IST = 271.2 K for open water and then find the IST at the first valid ATL10 value, we have the IST value at that freeboard. Then we can use that relationship to get thin ice freeboard where there is ATL07 data, but not ATL10\n",
    "* Comparing data with and without quality flag, the high temps are getting filtered out - more open water."
   ]
  },
  {
   "cell_type": "code",
   "execution_count": null,
   "metadata": {},
   "outputs": [],
   "source": []
  },
  {
   "cell_type": "code",
   "execution_count": null,
   "metadata": {},
   "outputs": [],
   "source": []
  },
  {
   "cell_type": "code",
   "execution_count": null,
   "metadata": {},
   "outputs": [],
   "source": []
  },
  {
   "cell_type": "code",
   "execution_count": null,
   "metadata": {},
   "outputs": [],
   "source": []
  },
  {
   "cell_type": "code",
   "execution_count": null,
   "metadata": {},
   "outputs": [],
   "source": []
  },
  {
   "cell_type": "markdown",
   "metadata": {},
   "source": [
    "# I'm sure we don't have time for this below, but another suggestion was to swap the interpolation above: Extract ICESat-2 heights along MODIS IST values instead of the other way around."
   ]
  },
  {
   "cell_type": "markdown",
   "metadata": {},
   "source": [
    "## Extract ICESat-2 heights along MODIS IST values\n",
    "\n",
    "* Use MODIS footprint as the baseline and match/bin IS-2 to each MODIS observation"
   ]
  }
 ],
 "metadata": {
  "kernelspec": {
   "display_name": "Python 3",
   "language": "python",
   "name": "python3"
  },
  "language_info": {
   "codemirror_mode": {
    "name": "ipython",
    "version": 3
   },
   "file_extension": ".py",
   "mimetype": "text/x-python",
   "name": "python",
   "nbconvert_exporter": "python",
   "pygments_lexer": "ipython3",
   "version": "3.7.3"
  }
 },
 "nbformat": 4,
 "nbformat_minor": 4
}
