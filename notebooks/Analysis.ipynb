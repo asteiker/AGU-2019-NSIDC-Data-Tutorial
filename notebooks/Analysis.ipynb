{
 "cells": [
  {
   "cell_type": "markdown",
   "metadata": {},
   "source": [
    "# Analysis operations\n",
    "\n",
    "Analyze Data\n",
    "\n",
    "Extract MODIS values that overlap ICESat-2 tracks (only strong beams)\n",
    "* Match up MODIS and ICESat-2 values – depending on IS-2 segment length vs. MODIS footprint, may simply due nearest neighbor, or may want to average (bin) on or the other\n",
    "* Use MODIS footprint as the baseline and match/bin IS-2 to each MODIS observation\n",
    "\n",
    "Plot MODIS IST (MOD29) and ICESat-2 height/freeboard along tracks (X-axis = position, Y-axis = IST and height)\n",
    "* This should show cold IST over the fast ice with fairly flat and higher ICESat-2 heights\n",
    "* Warm IST will be seen in open water, thin ice just off the fast ice boundary\n",
    "o\tIST will decrease along transect as \n",
    "o\tIS-2 should show low heights, but probably low quality (at least for ATL10, if any are available)\n",
    "\n",
    "Plot MODIS IST vs. ICESat-2: scatterplot (X-axis = IST, Y-axis = IS-2 height)\n",
    "* Should show a pretty clear relationship\n",
    "o\tOver fast ice: IST should be close to constant and height will also be fairly constant\n",
    "o\tOver drift ice, where it goes from thin ice toward thicker ice, should see height increasing as IST decreases\n",
    "o\tIf we use IST = 271.2 K for open water and then find the IST at the first valid ATL10 value, we have the IST value at that freeboard. Then can use that relationship to get thin ice freeboard where there is ATL07 data, but not ATL10\n",
    "\n",
    "Add AMSR2 (AU_SI6) 89V-H difference to MODIS IST and ICESat-2 plots\n",
    "* Difference for open water/thin ice large (~40-50 K), for thicker ice near zero (<10 K)\n",
    "* Or calculate the polarization ratio (PR) = (89V – 89H)/(89V + 89H), which is commonly used in the PM sea ice community\n",
    "* In theory can get concentration from PR (or 89 difference), but don’t really need to do that here.\n",
    "\n",
    "A couple other possibilities:\n",
    "* Compare cross-over points between tracks 1298 and 1305. \n",
    "o\tThis is over drift ice, but might be able to correlate between them\n",
    "o\tUsing all strong beams, there are 9 cross-over points, so there is \n",
    "* Compare 1298 repeat track from 12/22/2018 and 3/23/2019\n",
    "o\tFor fast ice, should see an increase in height from Dec to Mar as snow depth and ice thickness increases\n",
    "\tFrom a quick look at OA, I’m not really seeing this though\n",
    "\tNot much from ATL10\n",
    "\tLots of data in ATL07, but don’t really see a connection – in fact Dec looks lower than Mar; this could be due to corrections/quality issues\n"
   ]
  },
  {
   "cell_type": "markdown",
   "metadata": {},
   "source": [
    "### Import Packages"
   ]
  },
  {
   "cell_type": "code",
   "execution_count": 1,
   "metadata": {},
   "outputs": [],
   "source": [
    "import geopandas as gpd\n",
    "import matplotlib.pyplot as plt\n",
    "import cartopy.crs as ccrs\n",
    "import fiona\n",
    "import h5py\n",
    "import re\n",
    "import import_ipynb\n",
    "from ipynb.fs.full.Functions import *\n",
    "# To read KML files with geopandas, we will need to enable KML support in fiona (disabled by default)\n",
    "fiona.drvsupport.supported_drivers['LIBKML'] = 'rw'\n",
    "from shapely.geometry import Polygon, mapping\n",
    "from shapely.geometry.polygon import orient\n",
    "from statistics import mean\n",
    "import xarray as xr\n",
    "%matplotlib inline\n"
   ]
  },
  {
   "cell_type": "code",
   "execution_count": 5,
   "metadata": {},
   "outputs": [],
   "source": [
    "# Andy's imports:\n",
    "\n",
    "import warnings\n",
    "warnings.filterwarnings('ignore')\n",
    "\n",
    "import matplotlib.pyplot as plt\n",
    "\n",
    "import xarray as xr\n",
    "import numpy as np\n",
    "import glob\n",
    "import sys\n",
    "import pyproj\n",
    "\n",
    "import scipy.interpolate as scinterp"
   ]
  },
  {
   "cell_type": "markdown",
   "metadata": {},
   "source": [
    "### Visualize data with MODIS true color imagery \n",
    "\n",
    "* Overlay the IS-2 values on the MOD29 and/or WorldView true color as a 3-D plot or using cartopy"
   ]
  },
  {
   "cell_type": "code",
   "execution_count": 2,
   "metadata": {},
   "outputs": [],
   "source": [
    "# example url\n",
    "url = 'https://gibs.earthdata.nasa.gov/twms/epsg4326/best/twms.cgi?request=GetMap&layers=MODIS_Terra_CorrectedReflectance_TrueColor&srs=EPSG:4326&format=image/jpeg&styles=&time=2012-07-09&width=512&height=512&bbox=-18,27,-13.5,31.5'"
   ]
  },
  {
   "cell_type": "markdown",
   "metadata": {},
   "source": [
    "### Data filtering by quality flag\n"
   ]
  },
  {
   "cell_type": "markdown",
   "metadata": {},
   "source": [
    "For each beam group within each file, filter /sea_ice_segments/heights/height_segment_height based on:\n",
    "\n",
    "/sea_ice_segments/heights/height_segment_quality"
   ]
  },
  {
   "cell_type": "code",
   "execution_count": 6,
   "metadata": {},
   "outputs": [],
   "source": [
    "# # According to Alex Petty's ATL07 tutorial at the ICESat-2 hackweek, these are the primary variables of interest:\n",
    "\n",
    "# # Primary variables of interest\n",
    "\n",
    "# # Beam segment height\n",
    "# '/sea_ice_segments/heights/height_segment_height'\n",
    "\n",
    "# # Flag for potential leads, 0=sea ice, 1 = sea surface\n",
    "# '/sea_ice_segments/heights/height_segment_ssh_flag'\n",
    "    \n",
    "# #Quality metrics for each segment include confidence level in the surface height estimate, \n",
    "# # which is based on the number of photons, the background noise rate, and the error measure provided by the surface-finding algorithm.\n",
    "\n",
    "# # Height quality flag, 1 for good fit, 0 for bad\n",
    "# '/sea_ice_segments/heights/height_segment_quality'\n",
    "    \n",
    "# '/sea_ice_segments/heights/height_segment_rms' #RMS difference between modeled and observed photon height distribution\n",
    "# '/sea_ice_segments/heights/height_segment_length_seg' # Along track length of segment\n",
    "# '/sea_ice_segments/heights/height_segment_confidence' # Height segment confidence flag\n",
    "# '/sea_ice_segments/heights/height_segment_asr_calc'\n",
    "# '/sea_ice_segments/heights/height_segment_ssh_flag' #Flag for potential leads, 0=sea ice, 1 = sea surface\n",
    "# '/sea_ice_segments/heights/height_segment_type' # 0 = Cloud covered\n",
    "# '/sea_ice_segments/heights/height_segment_w_gaussian' # Width of Gaussian fit"
   ]
  },
  {
   "cell_type": "markdown",
   "metadata": {},
   "source": [
    "### Xarray to extract gridded data along ICESat-2 tracks\n"
   ]
  },
  {
   "cell_type": "markdown",
   "metadata": {},
   "source": [
    "Based on Andy's ICESat-2 hackweek tutorial:\n",
    "\n",
    "https://github.com/ICESAT-2HackWeek/xarray_open_tutorial/blob/master/xarray_examples.ipynb"
   ]
  },
  {
   "cell_type": "markdown",
   "metadata": {},
   "source": [
    "### Analysis plots\n",
    "\n",
    "(1) IST and heights along the IS-2 track (i.e., value vs. position), and (2) scatterplot of IST vs. height to show the relationship. "
   ]
  },
  {
   "cell_type": "code",
   "execution_count": null,
   "metadata": {},
   "outputs": [],
   "source": []
  }
 ],
 "metadata": {
  "kernelspec": {
   "display_name": "Python 3",
   "language": "python",
   "name": "python3"
  },
  "language_info": {
   "codemirror_mode": {
    "name": "ipython",
    "version": 3
   },
   "file_extension": ".py",
   "mimetype": "text/x-python",
   "name": "python",
   "nbconvert_exporter": "python",
   "pygments_lexer": "ipython3",
   "version": "3.7.3"
  }
 },
 "nbformat": 4,
 "nbformat_minor": 4
}
