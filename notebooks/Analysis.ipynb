{
 "cells": [
  {
   "cell_type": "markdown",
   "metadata": {},
   "source": [
    "# Analysis operations"
   ]
  },
  {
   "cell_type": "markdown",
   "metadata": {},
   "source": [
    "### Import Packages"
   ]
  },
  {
   "cell_type": "code",
   "execution_count": 1,
   "metadata": {},
   "outputs": [],
   "source": [
    "import geopandas as gpd\n",
    "import matplotlib.pyplot as plt\n",
    "import cartopy.crs as ccrs\n",
    "import fiona\n",
    "import h5py\n",
    "import re\n",
    "from statistics import mean\n",
    "\n",
    "# Andy's imports:\n",
    "import warnings\n",
    "warnings.filterwarnings('ignore')\n",
    "import matplotlib.pyplot as plt\n",
    "import xarray as xr\n",
    "import numpy as np\n",
    "import glob\n",
    "import sys\n",
    "import pyproj\n",
    "import scipy.interpolate as scinterp\n",
    "\n",
    "%matplotlib inline"
   ]
  },
  {
   "cell_type": "markdown",
   "metadata": {},
   "source": [
    "### Visualize data with MODIS true color imagery \n",
    "\n",
    "* Overlay ICESat-2 tracks on MODIS Corrected Reflectance as a 3-D plot or using cartopy (optional)\n",
    "    * Overlay photon/height/freeboard on WorldView imagery\n",
    "    * Use highest resolution possible for WorldView\n",
    "    * Example of visualization of data – not really useful for analysis but “pretty” image with qualitative information\n",
    "    * Higher ATL07 heights along fast ice, lower heights over thin ice and then increasing height.\n",
    "    * ATL03 should show fewer photon returns over open water and thin ice\n",
    "\n",
    "\n",
    "* Plot IS-2 track on MOD29 IST data\n",
    "    * Same as for WorldView but using IST\n",
    "    * May need to composite two or more tiles for coverage\n",
    "    * May need/want a land mask\n"
   ]
  },
  {
   "cell_type": "code",
   "execution_count": 2,
   "metadata": {},
   "outputs": [],
   "source": [
    "# example url\n",
    "url = 'https://gibs.earthdata.nasa.gov/twms/epsg4326/best/twms.cgi?request=GetMap&layers=MODIS_Terra_CorrectedReflectance_TrueColor&srs=EPSG:4326&format=image/jpeg&styles=&time=2012-07-09&width=512&height=512&bbox=-18,27,-13.5,31.5'"
   ]
  },
  {
   "cell_type": "markdown",
   "metadata": {},
   "source": [
    "### Data filtering by quality flag\n",
    "\n"
   ]
  },
  {
   "cell_type": "markdown",
   "metadata": {},
   "source": [
    "### Extract MODIS values that overlap ICESat-2 tracks\n",
    "\n",
    "* Match up MODIS and ICESat-2 values – depending on IS-2 segment length vs. MODIS footprint, may simply due nearest neighbor, or may want to average (bin) on or the other\n",
    "* Use MODIS footprint as the baseline and match/bin IS-2 to each MODIS observation\n"
   ]
  },
  {
   "cell_type": "markdown",
   "metadata": {},
   "source": [
    "Based on Andy's ICESat-2 hackweek tutorial to use Xarray to extract gridded data along ICESat-2 tracks:\n",
    "\n",
    "\n",
    "https://github.com/ICESAT-2HackWeek/xarray_open_tutorial/blob/master/xarray_examples.ipynb"
   ]
  },
  {
   "cell_type": "markdown",
   "metadata": {},
   "source": [
    "### Plot MODIS IST (MOD29) and ICESat-2 height/freeboard along tracks (X-axis = position, Y-axis = IST and height)\n",
    "\n",
    "* This should show cold IST over the fast ice with fairly flat and higher ICESat-2 heights\n",
    "* Warm IST will be seen in open water, thin ice just off the fast ice boundary\n",
    "    * IST will decrease along transect\n",
    "    * IS-2 should show low heights, but probably low quality (at least for ATL10, if any are available)"
   ]
  },
  {
   "cell_type": "markdown",
   "metadata": {},
   "source": [
    "### Plot MODIS IST vs. ICESat-2: scatterplot (X-axis = IST, Y-axis = IS-2 height)\n",
    "\n",
    "* Should show a pretty clear relationship\n",
    "    * Over fast ice: IST should be close to constant and height will also be fairly constant\n",
    "    * Over drift ice, where it goes from thin ice toward thicker ice, should see height increasing as IST decreases\n",
    "    * If we use IST = 271.2 K for open water and then find the IST at the first valid ATL10 value, we have the IST value at that freeboard. Then can use that relationship to get thin ice freeboard where there is ATL07 data, but not ATL10\n"
   ]
  },
  {
   "cell_type": "markdown",
   "metadata": {},
   "source": [
    "### Add AMSR2 (AU_SI6) 89V-H difference to MODIS IST and ICESat-2 plots\n",
    "\n",
    "* Difference for open water/thin ice large (~40-50 K), for thicker ice near zero (<10 K)\n",
    "* Or calculate the polarization ratio (PR) = (89V – 89H)/(89V + 89H), which is commonly used in the PM sea ice community\n",
    "* In theory can get concentration from PR (or 89 difference), but don’t really need to do that here.\n"
   ]
  },
  {
   "cell_type": "markdown",
   "metadata": {},
   "source": [
    "For each beam group within each file, filter /sea_ice_segments/heights/height_segment_height based on:\n",
    "\n",
    "/sea_ice_segments/heights/height_segment_quality"
   ]
  },
  {
   "cell_type": "markdown",
   "metadata": {},
   "source": [
    "### A couple other possibilities:\n",
    "* Compare cross-over points between tracks 1298 and 1305. \n",
    "    * This is over drift ice, but might be able to correlate between them\n",
    "    * Using all strong beams, there are 9 cross-over points, so there is \n",
    "* Compare 1298 repeat track from 12/22/2018 and 3/23/2019\n",
    "    * For fast ice, should see an increase in height from Dec to Mar as snow depth and ice thickness increases\n",
    "        * From a quick look at OA, I’m not really seeing this though\n",
    "        * Not much from ATL10\n",
    "        * Lots of data in ATL07, but don’t really see a connection – in fact Dec looks lower than Mar; this could be due to corrections/quality issues"
   ]
  }
 ],
 "metadata": {
  "kernelspec": {
   "display_name": "Python 3",
   "language": "python",
   "name": "python3"
  },
  "language_info": {
   "codemirror_mode": {
    "name": "ipython",
    "version": 3
   },
   "file_extension": ".py",
   "mimetype": "text/x-python",
   "name": "python",
   "nbconvert_exporter": "python",
   "pygments_lexer": "ipython3",
   "version": "3.7.3"
  }
 },
 "nbformat": 4,
 "nbformat_minor": 4
}
